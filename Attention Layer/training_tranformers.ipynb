{
 "cells": [
  {
   "cell_type": "code",
   "execution_count": 2,
   "metadata": {},
   "outputs": [],
   "source": [
    "# https://www.kaggle.com/datasets/dhruvildave/en-fr-translation-dataset\n",
    "\n",
    "from typing import NamedTuple, Generator\n",
    "import pandas as pd\n",
    "import torch\n",
    "import torch.nn.functional as F\n",
    "from torch import Tensor, optim, nn\n",
    "from tqdm import tqdm\n",
    "from transformers import AutoTokenizer\n",
    "from src.transformer import Transformer\n",
    "\n",
    "DEVICE = \"cuda\" if torch.cuda.is_available() else \"cpu\""
   ]
  },
  {
   "cell_type": "code",
   "execution_count": 3,
   "metadata": {},
   "outputs": [],
   "source": [
    "class PairedSentences(NamedTuple):\n",
    "    fr: str\n",
    "    en: str\n",
    "\n",
    "class ListPairedSentences(NamedTuple):\n",
    "    fr: list[str]\n",
    "    en: list[str]\n",
    "\n",
    "    def __getitem__(self, index: int) -> PairedSentences:\n",
    "        return PairedSentences(self.fr[index], self.en[index])\n",
    "\n",
    "class TrainingBatch(NamedTuple):\n",
    "    input_ids: Tensor\n",
    "    \"\"\"In our case french\"\"\"\n",
    "    \n",
    "    encoder_mask: Tensor\n",
    "    \"\"\"basically padding tokens\"\"\"\n",
    "    \n",
    "    output_ids: Tensor\n",
    "    \"\"\"In our case english\"\"\"\n",
    "    \n",
    "    decoder_mask: Tensor\n",
    "    \"\"\"Padding tokens, don't forget to add causal mask during training\"\"\"\n",
    "\n",
    "    def __repr__(self):\n",
    "        return f\"TrainingBatch(x.shape={self.input_ids.shape}, y.shape={self.output_ids.shape})\""
   ]
  },
  {
   "cell_type": "code",
   "execution_count": 14,
   "metadata": {},
   "outputs": [],
   "source": [
    "class Processor:\n",
    "    def __init__(self, sequence_length: int, tokenizer_name: str) -> None:\n",
    "        self._tokenizer = AutoTokenizer.from_pretrained(tokenizer_name)\n",
    "        self._seq_length = sequence_length\n",
    "        \n",
    "    @property\n",
    "    def tokenizer(self) -> AutoTokenizer:\n",
    "        return self._tokenizer\n",
    "\n",
    "    @property\n",
    "    def sequence_length(self) -> int:\n",
    "        return self._seq_length\n",
    "\n",
    "    @property\n",
    "    def vocab_size(self) -> int:\n",
    "        return self._tokenizer.vocab_size\n",
    "\n",
    "    def tokenize(self, text: str, padding: str=\"max_length\", truncation:bool=True, extra: int = 0):\n",
    "        return self._tokenizer(\n",
    "            text,\n",
    "            return_tensors=\"pt\",\n",
    "            max_length=self._seq_length + extra,\n",
    "            padding=padding,\n",
    "            truncation=truncation)\n",
    "\n",
    "    def decode(self, token_ids: Tensor, **kwargs) -> str:\n",
    "        return self._tokenizer.decode(token_ids, **kwargs)\n",
    "\n",
    "    def make_batch(self, paired_sentences: ListPairedSentences, dtype=torch.float32) -> TrainingBatch:\n",
    "        # Tokenize each sentence in the 'fr' and 'en' lists\n",
    "        fr_sentences = [self.tokenize(sentence) for sentence in paired_sentences.fr]\n",
    "        en_sentences = [self.tokenize(sentence, extra=1) for sentence in paired_sentences.en]\n",
    "\n",
    "        # Stack tokenized tensors for batching\n",
    "        X_batch = torch.stack([x['input_ids'].squeeze(0) for x in fr_sentences])\n",
    "        Y_batch = torch.stack([y['input_ids'].squeeze(0) for y in en_sentences])\n",
    "\n",
    "        # Create encoder and decoder padding mask: 1 for real tokens, 0 for padding\n",
    "        encoder_mask = torch.stack([x['attention_mask'].squeeze(0) for x in fr_sentences]) \\\n",
    "            .unsqueeze(1).unsqueeze(2)\n",
    "        decoder_mask = torch.stack([y['attention_mask'].squeeze(0) for y in en_sentences]) \\\n",
    "            .unsqueeze(1).unsqueeze(2)\n",
    "\n",
    "        return TrainingBatch(\n",
    "            input_ids=X_batch,\n",
    "            output_ids=Y_batch,\n",
    "            encoder_mask=encoder_mask.to(dtype),\n",
    "            decoder_mask=decoder_mask.to(dtype))\n",
    "\n",
    "def get_first_masked_token(mask: torch.Tensor) -> Tensor:\n",
    "    squeezed_mask = mask.squeeze(1).squeeze(1) # mask is shaped (bs, 1, 1, sequence_length)\n",
    "    first_masked_indices = (squeezed_mask == 0).int().argmax(dim=1)\n",
    "    first_masked_indices[squeezed_mask.sum(dim=1) == squeezed_mask.size(1)] = squeezed_mask.size(1)\n",
    "    return first_masked_indices.to(dtype=torch.int32)\n",
    "\n",
    "def mask_last_token(current_mask: torch.Tensor) -> torch.Tensor:\n",
    "    first_masked_indices = get_first_masked_token(current_mask) # get the index of first masked token\n",
    "    last_token_indices = torch.clamp(first_masked_indices - 1, min=0) # to avoid negative indices\n",
    "    current_mask[torch.arange(current_mask.size(0)), 0, 0, last_token_indices] = 0 # set the last 1 token to 0\n",
    "    return current_mask"
   ]
  },
  {
   "cell_type": "code",
   "execution_count": 15,
   "metadata": {},
   "outputs": [],
   "source": [
    "def get_page(csv_path: str, page: int, rows_per_page: int):\n",
    "    return pd.read_csv(csv_path, skiprows = 1 + page * rows_per_page, nrows=rows_per_page, header=None, names=[\"en\", \"fr\"])\n",
    "\n",
    "def make_generator(csv_path: str, rows_per_page: int) -> Generator[ListPairedSentences, None, None]:\n",
    "    i = 0\n",
    "    while True:\n",
    "        page = get_page(csv_path, i, rows_per_page)\n",
    "        fr_sentences = page[\"fr\"].to_list()\n",
    "        en_sentences = page[\"en\"].to_list()\n",
    "        yield ListPairedSentences(fr_sentences, en_sentences)\n",
    "        i += 1"
   ]
  },
  {
   "cell_type": "code",
   "execution_count": 25,
   "metadata": {},
   "outputs": [],
   "source": [
    "dtype=torch.bfloat16\n",
    "csv_path = \"archive/en-fr.csv\"\n",
    "processor = Processor(200, \"bert-base-uncased\")\n",
    "model = Transformer(vocab_size=processor.vocab_size, max_sequence_len=processor.sequence_length, d_model=256).to(DEVICE).to(dtype)\n",
    "\n",
    "# opt and loss\n",
    "learning_rate = 1e-4\n",
    "optimizer = optim.Adam(model.parameters(), lr=learning_rate)\n",
    "loss_fn = nn.CrossEntropyLoss(ignore_index=processor.tokenizer.pad_token_id).to(DEVICE)\n",
    "\n",
    "# training loop qty\n",
    "num_epochs = 500\n",
    "batch_size = 32\n",
    "break_at = 10\n",
    "# get_num_steps(csv_path, batch_size) running this function is too long ... just use the cached value\n",
    "num_steps = 22520376 // batch_size\n",
    "\n"
   ]
  },
  {
   "cell_type": "code",
   "execution_count": 26,
   "metadata": {},
   "outputs": [
    {
     "name": "stderr",
     "output_type": "stream",
     "text": [
      "Epoch 1:   0%|          | 9/703761 [00:00<20:24:10,  9.58it/s, lr : 0.0001 ; epoch loss : 9.6438 ; loop error : 0.0] \n"
     ]
    },
    {
     "name": "stdout",
     "output_type": "stream",
     "text": [
      "Epoch [1/500] completed, Average Loss: 0.0001\n"
     ]
    },
    {
     "name": "stderr",
     "output_type": "stream",
     "text": [
      "Epoch 2:   0%|          | 9/703761 [00:00<19:55:57,  9.81it/s, lr : 0.0001 ; epoch loss : 9.1250 ; loop error : 0.0]\n"
     ]
    },
    {
     "name": "stdout",
     "output_type": "stream",
     "text": [
      "Epoch [2/500] completed, Average Loss: 0.0001\n"
     ]
    },
    {
     "name": "stderr",
     "output_type": "stream",
     "text": [
      "Epoch 3:   0%|          | 9/703761 [00:00<20:11:07,  9.68it/s, lr : 0.0001 ; epoch loss : 8.8250 ; loop error : 0.0]\n"
     ]
    },
    {
     "name": "stdout",
     "output_type": "stream",
     "text": [
      "Epoch [3/500] completed, Average Loss: 0.0001\n"
     ]
    },
    {
     "name": "stderr",
     "output_type": "stream",
     "text": [
      "Epoch 4:   0%|          | 9/703761 [00:00<19:51:37,  9.84it/s, lr : 0.0001 ; epoch loss : 8.5312 ; loop error : 0.0]\n"
     ]
    },
    {
     "name": "stdout",
     "output_type": "stream",
     "text": [
      "Epoch [4/500] completed, Average Loss: 0.0001\n"
     ]
    },
    {
     "name": "stderr",
     "output_type": "stream",
     "text": [
      "Epoch 5:   0%|          | 9/703761 [00:00<19:29:02, 10.03it/s, lr : 0.0001 ; epoch loss : 8.2250 ; loop error : 0.0]\n"
     ]
    },
    {
     "name": "stdout",
     "output_type": "stream",
     "text": [
      "Epoch [5/500] completed, Average Loss: 0.0001\n"
     ]
    },
    {
     "name": "stderr",
     "output_type": "stream",
     "text": [
      "Epoch 6:   0%|          | 9/703761 [00:00<19:43:15,  9.91it/s, lr : 0.0001 ; epoch loss : 7.9406 ; loop error : 0.0]\n"
     ]
    },
    {
     "name": "stdout",
     "output_type": "stream",
     "text": [
      "Epoch [6/500] completed, Average Loss: 0.0001\n"
     ]
    },
    {
     "name": "stderr",
     "output_type": "stream",
     "text": [
      "Epoch 7:   0%|          | 9/703761 [00:00<18:46:35, 10.41it/s, lr : 0.0001 ; epoch loss : 7.6813 ; loop error : 0.0]\n"
     ]
    },
    {
     "name": "stdout",
     "output_type": "stream",
     "text": [
      "Epoch [7/500] completed, Average Loss: 0.0001\n"
     ]
    },
    {
     "name": "stderr",
     "output_type": "stream",
     "text": [
      "Epoch 8:   0%|          | 9/703761 [00:00<19:30:45, 10.02it/s, lr : 0.0001 ; epoch loss : 7.4375 ; loop error : 0.0]\n"
     ]
    },
    {
     "name": "stdout",
     "output_type": "stream",
     "text": [
      "Epoch [8/500] completed, Average Loss: 0.0001\n"
     ]
    },
    {
     "name": "stderr",
     "output_type": "stream",
     "text": [
      "Epoch 9:   0%|          | 9/703761 [00:00<19:55:42,  9.81it/s, lr : 0.0001 ; epoch loss : 7.2219 ; loop error : 0.0]\n"
     ]
    },
    {
     "name": "stdout",
     "output_type": "stream",
     "text": [
      "Epoch [9/500] completed, Average Loss: 0.0001\n"
     ]
    },
    {
     "name": "stderr",
     "output_type": "stream",
     "text": [
      "Epoch 10:   0%|          | 9/703761 [00:00<18:47:02, 10.41it/s, lr : 0.0001 ; epoch loss : 7.0187 ; loop error : 0.0]\n"
     ]
    },
    {
     "name": "stdout",
     "output_type": "stream",
     "text": [
      "Epoch [10/500] completed, Average Loss: 0.0001\n"
     ]
    },
    {
     "name": "stderr",
     "output_type": "stream",
     "text": [
      "Epoch 11:   0%|          | 9/703761 [00:00<19:25:28, 10.06it/s, lr : 0.0001 ; epoch loss : 6.8094 ; loop error : 0.0]\n"
     ]
    },
    {
     "name": "stdout",
     "output_type": "stream",
     "text": [
      "Epoch [11/500] completed, Average Loss: 0.0001\n"
     ]
    },
    {
     "name": "stderr",
     "output_type": "stream",
     "text": [
      "Epoch 12:   0%|          | 9/703761 [00:00<20:39:20,  9.46it/s, lr : 0.0001 ; epoch loss : 6.6219 ; loop error : 0.0]\n"
     ]
    },
    {
     "name": "stdout",
     "output_type": "stream",
     "text": [
      "Epoch [12/500] completed, Average Loss: 0.0001\n"
     ]
    },
    {
     "name": "stderr",
     "output_type": "stream",
     "text": [
      "Epoch 13:   0%|          | 9/703761 [00:00<19:08:35, 10.21it/s, lr : 0.0001 ; epoch loss : 6.4469 ; loop error : 0.0]\n"
     ]
    },
    {
     "name": "stdout",
     "output_type": "stream",
     "text": [
      "Epoch [13/500] completed, Average Loss: 0.0001\n"
     ]
    },
    {
     "name": "stderr",
     "output_type": "stream",
     "text": [
      "Epoch 14:   0%|          | 9/703761 [00:00<19:13:38, 10.17it/s, lr : 0.0001 ; epoch loss : 6.2781 ; loop error : 0.0]\n"
     ]
    },
    {
     "name": "stdout",
     "output_type": "stream",
     "text": [
      "Epoch [14/500] completed, Average Loss: 0.0001\n"
     ]
    },
    {
     "name": "stderr",
     "output_type": "stream",
     "text": [
      "Epoch 15:   0%|          | 9/703761 [00:00<19:59:08,  9.78it/s, lr : 0.0001 ; epoch loss : 6.1188 ; loop error : 0.0]\n"
     ]
    },
    {
     "name": "stdout",
     "output_type": "stream",
     "text": [
      "Epoch [15/500] completed, Average Loss: 0.0001\n"
     ]
    },
    {
     "name": "stderr",
     "output_type": "stream",
     "text": [
      "Epoch 16:   0%|          | 9/703761 [00:00<18:12:57, 10.73it/s, lr : 0.0001 ; epoch loss : 5.9875 ; loop error : 0.0]\n"
     ]
    },
    {
     "name": "stdout",
     "output_type": "stream",
     "text": [
      "Epoch [16/500] completed, Average Loss: 0.0001\n"
     ]
    },
    {
     "name": "stderr",
     "output_type": "stream",
     "text": [
      "Epoch 17:   0%|          | 9/703761 [00:00<18:46:07, 10.42it/s, lr : 0.0001 ; epoch loss : 5.8406 ; loop error : 0.0]\n"
     ]
    },
    {
     "name": "stdout",
     "output_type": "stream",
     "text": [
      "Epoch [17/500] completed, Average Loss: 0.0001\n"
     ]
    },
    {
     "name": "stderr",
     "output_type": "stream",
     "text": [
      "Epoch 18:   0%|          | 9/703761 [00:00<19:32:21, 10.00it/s, lr : 0.0001 ; epoch loss : 5.7094 ; loop error : 0.0]\n"
     ]
    },
    {
     "name": "stdout",
     "output_type": "stream",
     "text": [
      "Epoch [18/500] completed, Average Loss: 0.0001\n"
     ]
    },
    {
     "name": "stderr",
     "output_type": "stream",
     "text": [
      "Epoch 19:   0%|          | 9/703761 [00:00<19:06:57, 10.23it/s, lr : 0.0001 ; epoch loss : 5.6281 ; loop error : 0.0]\n"
     ]
    },
    {
     "name": "stdout",
     "output_type": "stream",
     "text": [
      "Epoch [19/500] completed, Average Loss: 0.0001\n"
     ]
    },
    {
     "name": "stderr",
     "output_type": "stream",
     "text": [
      "Epoch 20:   0%|          | 9/703761 [00:00<19:07:36, 10.22it/s, lr : 0.0001 ; epoch loss : 5.5500 ; loop error : 0.0]\n"
     ]
    },
    {
     "name": "stdout",
     "output_type": "stream",
     "text": [
      "Epoch [20/500] completed, Average Loss: 0.0001\n"
     ]
    },
    {
     "name": "stderr",
     "output_type": "stream",
     "text": [
      "Epoch 21:   0%|          | 9/703761 [00:00<19:58:18,  9.79it/s, lr : 0.0001 ; epoch loss : 5.4500 ; loop error : 0.0]\n"
     ]
    },
    {
     "name": "stdout",
     "output_type": "stream",
     "text": [
      "Epoch [21/500] completed, Average Loss: 0.0001\n"
     ]
    },
    {
     "name": "stderr",
     "output_type": "stream",
     "text": [
      "Epoch 22:   0%|          | 9/703761 [00:00<19:51:12,  9.85it/s, lr : 0.0001 ; epoch loss : 5.3844 ; loop error : 0.0]\n"
     ]
    },
    {
     "name": "stdout",
     "output_type": "stream",
     "text": [
      "Epoch [22/500] completed, Average Loss: 0.0001\n"
     ]
    },
    {
     "name": "stderr",
     "output_type": "stream",
     "text": [
      "Epoch 23:   0%|          | 9/703761 [00:00<19:15:40, 10.15it/s, lr : 0.0001 ; epoch loss : 5.2719 ; loop error : 0.0]\n"
     ]
    },
    {
     "name": "stdout",
     "output_type": "stream",
     "text": [
      "Epoch [23/500] completed, Average Loss: 0.0001\n"
     ]
    },
    {
     "name": "stderr",
     "output_type": "stream",
     "text": [
      "Epoch 24:   0%|          | 9/703761 [00:00<20:37:29,  9.48it/s, lr : 0.0001 ; epoch loss : 5.1813 ; loop error : 0.0]\n"
     ]
    },
    {
     "name": "stdout",
     "output_type": "stream",
     "text": [
      "Epoch [24/500] completed, Average Loss: 0.0001\n"
     ]
    },
    {
     "name": "stderr",
     "output_type": "stream",
     "text": [
      "Epoch 25:   0%|          | 9/703761 [00:00<18:46:35, 10.41it/s, lr : 0.0001 ; epoch loss : 5.1063 ; loop error : 0.0]\n"
     ]
    },
    {
     "name": "stdout",
     "output_type": "stream",
     "text": [
      "Epoch [25/500] completed, Average Loss: 0.0001\n"
     ]
    },
    {
     "name": "stderr",
     "output_type": "stream",
     "text": [
      "Epoch 26:   0%|          | 9/703761 [00:00<19:02:40, 10.26it/s, lr : 0.0001 ; epoch loss : 5.0531 ; loop error : 0.0]\n"
     ]
    },
    {
     "name": "stdout",
     "output_type": "stream",
     "text": [
      "Epoch [26/500] completed, Average Loss: 0.0001\n"
     ]
    },
    {
     "name": "stderr",
     "output_type": "stream",
     "text": [
      "Epoch 27:   0%|          | 9/703761 [00:00<19:20:22, 10.11it/s, lr : 0.0001 ; epoch loss : 4.9781 ; loop error : 0.0]\n"
     ]
    },
    {
     "name": "stdout",
     "output_type": "stream",
     "text": [
      "Epoch [27/500] completed, Average Loss: 0.0001\n"
     ]
    },
    {
     "name": "stderr",
     "output_type": "stream",
     "text": [
      "Epoch 28:   0%|          | 9/703761 [00:00<18:50:25, 10.38it/s, lr : 0.0001 ; epoch loss : 4.8953 ; loop error : 0.0]\n"
     ]
    },
    {
     "name": "stdout",
     "output_type": "stream",
     "text": [
      "Epoch [28/500] completed, Average Loss: 0.0001\n"
     ]
    },
    {
     "name": "stderr",
     "output_type": "stream",
     "text": [
      "Epoch 29:   0%|          | 9/703761 [00:00<16:55:34, 11.55it/s, lr : 0.0001 ; epoch loss : 4.8187 ; loop error : 0.0]\n"
     ]
    },
    {
     "name": "stdout",
     "output_type": "stream",
     "text": [
      "Epoch [29/500] completed, Average Loss: 0.0001\n"
     ]
    },
    {
     "name": "stderr",
     "output_type": "stream",
     "text": [
      "Epoch 30:   0%|          | 9/703761 [00:00<17:52:55, 10.93it/s, lr : 0.0001 ; epoch loss : 4.7562 ; loop error : 0.0]\n"
     ]
    },
    {
     "name": "stdout",
     "output_type": "stream",
     "text": [
      "Epoch [30/500] completed, Average Loss: 0.0001\n"
     ]
    },
    {
     "name": "stderr",
     "output_type": "stream",
     "text": [
      "Epoch 31:   0%|          | 9/703761 [00:00<19:30:05, 10.02it/s, lr : 0.0001 ; epoch loss : 4.7234 ; loop error : 0.0]\n"
     ]
    },
    {
     "name": "stdout",
     "output_type": "stream",
     "text": [
      "Epoch [31/500] completed, Average Loss: 0.0001\n"
     ]
    },
    {
     "name": "stderr",
     "output_type": "stream",
     "text": [
      "Epoch 32:   0%|          | 9/703761 [00:00<18:44:03, 10.43it/s, lr : 0.0001 ; epoch loss : 4.6531 ; loop error : 0.0]\n"
     ]
    },
    {
     "name": "stdout",
     "output_type": "stream",
     "text": [
      "Epoch [32/500] completed, Average Loss: 0.0001\n"
     ]
    },
    {
     "name": "stderr",
     "output_type": "stream",
     "text": [
      "Epoch 33:   0%|          | 9/703761 [00:00<19:39:07,  9.95it/s, lr : 0.0001 ; epoch loss : 4.6203 ; loop error : 0.0]\n"
     ]
    },
    {
     "name": "stdout",
     "output_type": "stream",
     "text": [
      "Epoch [33/500] completed, Average Loss: 0.0001\n"
     ]
    },
    {
     "name": "stderr",
     "output_type": "stream",
     "text": [
      "Epoch 34:   0%|          | 9/703761 [00:00<20:21:36,  9.60it/s, lr : 0.0001 ; epoch loss : 4.5891 ; loop error : 0.0]\n"
     ]
    },
    {
     "name": "stdout",
     "output_type": "stream",
     "text": [
      "Epoch [34/500] completed, Average Loss: 0.0001\n"
     ]
    },
    {
     "name": "stderr",
     "output_type": "stream",
     "text": [
      "Epoch 35:   0%|          | 9/703761 [00:00<21:01:45,  9.30it/s, lr : 0.0001 ; epoch loss : 4.5266 ; loop error : 0.0]\n"
     ]
    },
    {
     "name": "stdout",
     "output_type": "stream",
     "text": [
      "Epoch [35/500] completed, Average Loss: 0.0001\n"
     ]
    },
    {
     "name": "stderr",
     "output_type": "stream",
     "text": [
      "Epoch 36:   0%|          | 9/703761 [00:00<19:32:11, 10.01it/s, lr : 0.0001 ; epoch loss : 4.4859 ; loop error : 0.0]\n"
     ]
    },
    {
     "name": "stdout",
     "output_type": "stream",
     "text": [
      "Epoch [36/500] completed, Average Loss: 0.0001\n"
     ]
    },
    {
     "name": "stderr",
     "output_type": "stream",
     "text": [
      "Epoch 37:   0%|          | 9/703761 [00:00<19:31:43, 10.01it/s, lr : 0.0001 ; epoch loss : 4.4813 ; loop error : 0.0]\n"
     ]
    },
    {
     "name": "stdout",
     "output_type": "stream",
     "text": [
      "Epoch [37/500] completed, Average Loss: 0.0001\n"
     ]
    },
    {
     "name": "stderr",
     "output_type": "stream",
     "text": [
      "Epoch 38:   0%|          | 9/703761 [00:00<20:32:13,  9.52it/s, lr : 0.0001 ; epoch loss : 4.4078 ; loop error : 0.0]\n"
     ]
    },
    {
     "name": "stdout",
     "output_type": "stream",
     "text": [
      "Epoch [38/500] completed, Average Loss: 0.0001\n"
     ]
    },
    {
     "name": "stderr",
     "output_type": "stream",
     "text": [
      "Epoch 39:   0%|          | 9/703761 [00:00<19:57:49,  9.79it/s, lr : 0.0001 ; epoch loss : 4.3875 ; loop error : 0.0]\n"
     ]
    },
    {
     "name": "stdout",
     "output_type": "stream",
     "text": [
      "Epoch [39/500] completed, Average Loss: 0.0001\n"
     ]
    },
    {
     "name": "stderr",
     "output_type": "stream",
     "text": [
      "Epoch 40:   0%|          | 9/703761 [00:00<19:33:09, 10.00it/s, lr : 0.0001 ; epoch loss : 4.3438 ; loop error : 0.0]\n"
     ]
    },
    {
     "name": "stdout",
     "output_type": "stream",
     "text": [
      "Epoch [40/500] completed, Average Loss: 0.0001\n"
     ]
    },
    {
     "name": "stderr",
     "output_type": "stream",
     "text": [
      "Epoch 41:   0%|          | 9/703761 [00:00<19:57:33,  9.79it/s, lr : 0.0001 ; epoch loss : 4.3094 ; loop error : 0.0]\n"
     ]
    },
    {
     "name": "stdout",
     "output_type": "stream",
     "text": [
      "Epoch [41/500] completed, Average Loss: 0.0001\n"
     ]
    },
    {
     "name": "stderr",
     "output_type": "stream",
     "text": [
      "Epoch 42:   0%|          | 9/703761 [00:00<18:29:49, 10.57it/s, lr : 0.0001 ; epoch loss : 4.2781 ; loop error : 0.0]\n"
     ]
    },
    {
     "name": "stdout",
     "output_type": "stream",
     "text": [
      "Epoch [42/500] completed, Average Loss: 0.0001\n"
     ]
    },
    {
     "name": "stderr",
     "output_type": "stream",
     "text": [
      "Epoch 43:   0%|          | 9/703761 [00:00<18:46:48, 10.41it/s, lr : 0.0001 ; epoch loss : 4.2094 ; loop error : 0.0]\n"
     ]
    },
    {
     "name": "stdout",
     "output_type": "stream",
     "text": [
      "Epoch [43/500] completed, Average Loss: 0.0001\n"
     ]
    },
    {
     "name": "stderr",
     "output_type": "stream",
     "text": [
      "Epoch 44:   0%|          | 9/703761 [00:00<18:14:57, 10.71it/s, lr : 0.0001 ; epoch loss : 4.1641 ; loop error : 0.0]\n"
     ]
    },
    {
     "name": "stdout",
     "output_type": "stream",
     "text": [
      "Epoch [44/500] completed, Average Loss: 0.0001\n"
     ]
    },
    {
     "name": "stderr",
     "output_type": "stream",
     "text": [
      "Epoch 45:   0%|          | 9/703761 [00:00<18:31:17, 10.55it/s, lr : 0.0001 ; epoch loss : 4.1328 ; loop error : 0.0]\n"
     ]
    },
    {
     "name": "stdout",
     "output_type": "stream",
     "text": [
      "Epoch [45/500] completed, Average Loss: 0.0001\n"
     ]
    },
    {
     "name": "stderr",
     "output_type": "stream",
     "text": [
      "Epoch 46:   0%|          | 9/703761 [00:00<18:26:58, 10.60it/s, lr : 0.0001 ; epoch loss : 4.1250 ; loop error : 0.0]\n"
     ]
    },
    {
     "name": "stdout",
     "output_type": "stream",
     "text": [
      "Epoch [46/500] completed, Average Loss: 0.0001\n"
     ]
    },
    {
     "name": "stderr",
     "output_type": "stream",
     "text": [
      "Epoch 47:   0%|          | 9/703761 [00:00<19:12:09, 10.18it/s, lr : 0.0001 ; epoch loss : 4.1312 ; loop error : 0.0]\n"
     ]
    },
    {
     "name": "stdout",
     "output_type": "stream",
     "text": [
      "Epoch [47/500] completed, Average Loss: 0.0001\n"
     ]
    },
    {
     "name": "stderr",
     "output_type": "stream",
     "text": [
      "Epoch 48:   0%|          | 9/703761 [00:00<19:15:40, 10.15it/s, lr : 0.0001 ; epoch loss : 4.0406 ; loop error : 0.0]\n"
     ]
    },
    {
     "name": "stdout",
     "output_type": "stream",
     "text": [
      "Epoch [48/500] completed, Average Loss: 0.0001\n"
     ]
    },
    {
     "name": "stderr",
     "output_type": "stream",
     "text": [
      "Epoch 49:   0%|          | 9/703761 [00:00<19:22:25, 10.09it/s, lr : 0.0001 ; epoch loss : 4.0219 ; loop error : 0.0]\n"
     ]
    },
    {
     "name": "stdout",
     "output_type": "stream",
     "text": [
      "Epoch [49/500] completed, Average Loss: 0.0001\n"
     ]
    },
    {
     "name": "stderr",
     "output_type": "stream",
     "text": [
      "Epoch 50:   0%|          | 9/703761 [00:00<19:09:35, 10.20it/s, lr : 0.0001 ; epoch loss : 3.9609 ; loop error : 0.0]\n"
     ]
    },
    {
     "name": "stdout",
     "output_type": "stream",
     "text": [
      "Epoch [50/500] completed, Average Loss: 0.0001\n"
     ]
    },
    {
     "name": "stderr",
     "output_type": "stream",
     "text": [
      "Epoch 51:   0%|          | 9/703761 [00:00<19:17:17, 10.13it/s, lr : 0.0001 ; epoch loss : 3.9203 ; loop error : 0.0]\n"
     ]
    },
    {
     "name": "stdout",
     "output_type": "stream",
     "text": [
      "Epoch [51/500] completed, Average Loss: 0.0001\n"
     ]
    },
    {
     "name": "stderr",
     "output_type": "stream",
     "text": [
      "Epoch 52:   0%|          | 9/703761 [00:00<19:19:41, 10.11it/s, lr : 0.0001 ; epoch loss : 3.8953 ; loop error : 0.0]\n"
     ]
    },
    {
     "name": "stdout",
     "output_type": "stream",
     "text": [
      "Epoch [52/500] completed, Average Loss: 0.0001\n"
     ]
    },
    {
     "name": "stderr",
     "output_type": "stream",
     "text": [
      "Epoch 53:   0%|          | 9/703761 [00:00<19:17:36, 10.13it/s, lr : 0.0001 ; epoch loss : 3.8453 ; loop error : 0.0]\n"
     ]
    },
    {
     "name": "stdout",
     "output_type": "stream",
     "text": [
      "Epoch [53/500] completed, Average Loss: 0.0001\n"
     ]
    },
    {
     "name": "stderr",
     "output_type": "stream",
     "text": [
      "Epoch 54:   0%|          | 9/703761 [00:00<19:37:02,  9.96it/s, lr : 0.0001 ; epoch loss : 3.8188 ; loop error : 0.0]\n"
     ]
    },
    {
     "name": "stdout",
     "output_type": "stream",
     "text": [
      "Epoch [54/500] completed, Average Loss: 0.0001\n"
     ]
    },
    {
     "name": "stderr",
     "output_type": "stream",
     "text": [
      "Epoch 55:   0%|          | 9/703761 [00:00<18:56:17, 10.32it/s, lr : 0.0001 ; epoch loss : 3.8031 ; loop error : 0.0]\n"
     ]
    },
    {
     "name": "stdout",
     "output_type": "stream",
     "text": [
      "Epoch [55/500] completed, Average Loss: 0.0001\n"
     ]
    },
    {
     "name": "stderr",
     "output_type": "stream",
     "text": [
      "Epoch 56:   0%|          | 9/703761 [00:00<19:20:09, 10.11it/s, lr : 0.0001 ; epoch loss : 3.7500 ; loop error : 0.0]\n"
     ]
    },
    {
     "name": "stdout",
     "output_type": "stream",
     "text": [
      "Epoch [56/500] completed, Average Loss: 0.0001\n"
     ]
    },
    {
     "name": "stderr",
     "output_type": "stream",
     "text": [
      "Epoch 57:   0%|          | 9/703761 [00:00<18:34:43, 10.52it/s, lr : 0.0001 ; epoch loss : 3.7422 ; loop error : 0.0]\n"
     ]
    },
    {
     "name": "stdout",
     "output_type": "stream",
     "text": [
      "Epoch [57/500] completed, Average Loss: 0.0001\n"
     ]
    },
    {
     "name": "stderr",
     "output_type": "stream",
     "text": [
      "Epoch 58:   0%|          | 9/703761 [00:00<19:28:10, 10.04it/s, lr : 0.0001 ; epoch loss : 3.7516 ; loop error : 0.0]\n"
     ]
    },
    {
     "name": "stdout",
     "output_type": "stream",
     "text": [
      "Epoch [58/500] completed, Average Loss: 0.0001\n"
     ]
    },
    {
     "name": "stderr",
     "output_type": "stream",
     "text": [
      "Epoch 59:   0%|          | 9/703761 [00:00<17:33:41, 11.13it/s, lr : 0.0001 ; epoch loss : 3.7547 ; loop error : 0.0]\n"
     ]
    },
    {
     "name": "stdout",
     "output_type": "stream",
     "text": [
      "Epoch [59/500] completed, Average Loss: 0.0001\n"
     ]
    },
    {
     "name": "stderr",
     "output_type": "stream",
     "text": [
      "Epoch 60:   0%|          | 9/703761 [00:00<17:00:21, 11.50it/s, lr : 0.0001 ; epoch loss : 3.7391 ; loop error : 0.0]\n"
     ]
    },
    {
     "name": "stdout",
     "output_type": "stream",
     "text": [
      "Epoch [60/500] completed, Average Loss: 0.0001\n"
     ]
    },
    {
     "name": "stderr",
     "output_type": "stream",
     "text": [
      "Epoch 61:   0%|          | 9/703761 [00:00<18:37:16, 10.50it/s, lr : 0.0001 ; epoch loss : 3.6406 ; loop error : 0.0]\n"
     ]
    },
    {
     "name": "stdout",
     "output_type": "stream",
     "text": [
      "Epoch [61/500] completed, Average Loss: 0.0001\n"
     ]
    },
    {
     "name": "stderr",
     "output_type": "stream",
     "text": [
      "Epoch 62:   0%|          | 9/703761 [00:00<19:56:17,  9.80it/s, lr : 0.0001 ; epoch loss : 3.5703 ; loop error : 0.0]\n"
     ]
    },
    {
     "name": "stdout",
     "output_type": "stream",
     "text": [
      "Epoch [62/500] completed, Average Loss: 0.0001\n"
     ]
    },
    {
     "name": "stderr",
     "output_type": "stream",
     "text": [
      "Epoch 63:   0%|          | 9/703761 [00:00<19:32:26, 10.00it/s, lr : 0.0001 ; epoch loss : 3.5281 ; loop error : 0.0]\n"
     ]
    },
    {
     "name": "stdout",
     "output_type": "stream",
     "text": [
      "Epoch [63/500] completed, Average Loss: 0.0001\n"
     ]
    },
    {
     "name": "stderr",
     "output_type": "stream",
     "text": [
      "Epoch 64:   0%|          | 9/703761 [00:00<19:11:56, 10.18it/s, lr : 0.0001 ; epoch loss : 3.5063 ; loop error : 0.0]\n"
     ]
    },
    {
     "name": "stdout",
     "output_type": "stream",
     "text": [
      "Epoch [64/500] completed, Average Loss: 0.0000\n"
     ]
    },
    {
     "name": "stderr",
     "output_type": "stream",
     "text": [
      "Epoch 65:   0%|          | 9/703761 [00:00<18:25:40, 10.61it/s, lr : 0.0001 ; epoch loss : 3.5047 ; loop error : 0.0]\n"
     ]
    },
    {
     "name": "stdout",
     "output_type": "stream",
     "text": [
      "Epoch [65/500] completed, Average Loss: 0.0000\n"
     ]
    },
    {
     "name": "stderr",
     "output_type": "stream",
     "text": [
      "Epoch 66:   0%|          | 9/703761 [00:00<20:35:00,  9.50it/s, lr : 0.0001 ; epoch loss : 3.5297 ; loop error : 0.0]\n"
     ]
    },
    {
     "name": "stdout",
     "output_type": "stream",
     "text": [
      "Epoch [66/500] completed, Average Loss: 0.0001\n"
     ]
    },
    {
     "name": "stderr",
     "output_type": "stream",
     "text": [
      "Epoch 67:   0%|          | 9/703761 [00:00<18:23:05, 10.63it/s, lr : 0.0001 ; epoch loss : 3.5344 ; loop error : 0.0]\n"
     ]
    },
    {
     "name": "stdout",
     "output_type": "stream",
     "text": [
      "Epoch [67/500] completed, Average Loss: 0.0001\n"
     ]
    },
    {
     "name": "stderr",
     "output_type": "stream",
     "text": [
      "Epoch 68:   0%|          | 9/703761 [00:00<17:35:41, 11.11it/s, lr : 0.0001 ; epoch loss : 3.5047 ; loop error : 0.0]\n"
     ]
    },
    {
     "name": "stdout",
     "output_type": "stream",
     "text": [
      "Epoch [68/500] completed, Average Loss: 0.0000\n"
     ]
    },
    {
     "name": "stderr",
     "output_type": "stream",
     "text": [
      "Epoch 69:   0%|          | 9/703761 [00:00<18:09:59, 10.76it/s, lr : 0.0001 ; epoch loss : 3.4531 ; loop error : 0.0]\n"
     ]
    },
    {
     "name": "stdout",
     "output_type": "stream",
     "text": [
      "Epoch [69/500] completed, Average Loss: 0.0000\n"
     ]
    },
    {
     "name": "stderr",
     "output_type": "stream",
     "text": [
      "Epoch 70:   0%|          | 9/703761 [00:00<19:06:30, 10.23it/s, lr : 0.0001 ; epoch loss : 3.4000 ; loop error : 0.0]\n"
     ]
    },
    {
     "name": "stdout",
     "output_type": "stream",
     "text": [
      "Epoch [70/500] completed, Average Loss: 0.0000\n"
     ]
    },
    {
     "name": "stderr",
     "output_type": "stream",
     "text": [
      "Epoch 71:   0%|          | 9/703761 [00:00<18:37:43, 10.49it/s, lr : 0.0001 ; epoch loss : 3.3594 ; loop error : 0.0]\n"
     ]
    },
    {
     "name": "stdout",
     "output_type": "stream",
     "text": [
      "Epoch [71/500] completed, Average Loss: 0.0000\n"
     ]
    },
    {
     "name": "stderr",
     "output_type": "stream",
     "text": [
      "Epoch 72:   0%|          | 9/703761 [00:00<18:51:32, 10.37it/s, lr : 0.0001 ; epoch loss : 3.3438 ; loop error : 0.0]\n"
     ]
    },
    {
     "name": "stdout",
     "output_type": "stream",
     "text": [
      "Epoch [72/500] completed, Average Loss: 0.0000\n"
     ]
    },
    {
     "name": "stderr",
     "output_type": "stream",
     "text": [
      "Epoch 73:   0%|          | 9/703761 [00:00<20:21:51,  9.60it/s, lr : 0.0001 ; epoch loss : 3.3188 ; loop error : 0.0]\n"
     ]
    },
    {
     "name": "stdout",
     "output_type": "stream",
     "text": [
      "Epoch [73/500] completed, Average Loss: 0.0000\n"
     ]
    },
    {
     "name": "stderr",
     "output_type": "stream",
     "text": [
      "Epoch 74:   0%|          | 9/703761 [00:00<19:02:22, 10.27it/s, lr : 0.0001 ; epoch loss : 3.2828 ; loop error : 0.0]\n"
     ]
    },
    {
     "name": "stdout",
     "output_type": "stream",
     "text": [
      "Epoch [74/500] completed, Average Loss: 0.0000\n"
     ]
    },
    {
     "name": "stderr",
     "output_type": "stream",
     "text": [
      "Epoch 75:   0%|          | 9/703761 [00:00<20:01:32,  9.76it/s, lr : 0.0001 ; epoch loss : 3.2406 ; loop error : 0.0]\n"
     ]
    },
    {
     "name": "stdout",
     "output_type": "stream",
     "text": [
      "Epoch [75/500] completed, Average Loss: 0.0000\n"
     ]
    },
    {
     "name": "stderr",
     "output_type": "stream",
     "text": [
      "Epoch 76:   0%|          | 9/703761 [00:00<19:26:36, 10.05it/s, lr : 0.0001 ; epoch loss : 3.2031 ; loop error : 0.0]\n"
     ]
    },
    {
     "name": "stdout",
     "output_type": "stream",
     "text": [
      "Epoch [76/500] completed, Average Loss: 0.0000\n"
     ]
    },
    {
     "name": "stderr",
     "output_type": "stream",
     "text": [
      "Epoch 77:   0%|          | 9/703761 [00:00<20:32:30,  9.52it/s, lr : 0.0001 ; epoch loss : 3.1703 ; loop error : 0.0]\n"
     ]
    },
    {
     "name": "stdout",
     "output_type": "stream",
     "text": [
      "Epoch [77/500] completed, Average Loss: 0.0000\n"
     ]
    },
    {
     "name": "stderr",
     "output_type": "stream",
     "text": [
      "Epoch 78:   0%|          | 9/703761 [00:00<19:21:20, 10.10it/s, lr : 0.0001 ; epoch loss : 3.1516 ; loop error : 0.0]\n"
     ]
    },
    {
     "name": "stdout",
     "output_type": "stream",
     "text": [
      "Epoch [78/500] completed, Average Loss: 0.0000\n"
     ]
    },
    {
     "name": "stderr",
     "output_type": "stream",
     "text": [
      "Epoch 79:   0%|          | 9/703761 [00:00<19:37:27,  9.96it/s, lr : 0.0001 ; epoch loss : 3.1422 ; loop error : 0.0]\n"
     ]
    },
    {
     "name": "stdout",
     "output_type": "stream",
     "text": [
      "Epoch [79/500] completed, Average Loss: 0.0000\n"
     ]
    },
    {
     "name": "stderr",
     "output_type": "stream",
     "text": [
      "Epoch 80:   0%|          | 9/703761 [00:00<19:31:48, 10.01it/s, lr : 0.0001 ; epoch loss : 3.1250 ; loop error : 0.0]\n"
     ]
    },
    {
     "name": "stdout",
     "output_type": "stream",
     "text": [
      "Epoch [80/500] completed, Average Loss: 0.0000\n"
     ]
    },
    {
     "name": "stderr",
     "output_type": "stream",
     "text": [
      "Epoch 81:   0%|          | 9/703761 [00:00<19:28:01, 10.04it/s, lr : 0.0001 ; epoch loss : 3.1078 ; loop error : 0.0]\n"
     ]
    },
    {
     "name": "stdout",
     "output_type": "stream",
     "text": [
      "Epoch [81/500] completed, Average Loss: 0.0000\n"
     ]
    },
    {
     "name": "stderr",
     "output_type": "stream",
     "text": [
      "Epoch 82:   0%|          | 9/703761 [00:00<19:20:10, 10.11it/s, lr : 0.0001 ; epoch loss : 3.0922 ; loop error : 0.0]\n"
     ]
    },
    {
     "name": "stdout",
     "output_type": "stream",
     "text": [
      "Epoch [82/500] completed, Average Loss: 0.0000\n"
     ]
    },
    {
     "name": "stderr",
     "output_type": "stream",
     "text": [
      "Epoch 83:   0%|          | 9/703761 [00:00<20:51:11,  9.37it/s, lr : 0.0001 ; epoch loss : 3.0688 ; loop error : 0.0]\n"
     ]
    },
    {
     "name": "stdout",
     "output_type": "stream",
     "text": [
      "Epoch [83/500] completed, Average Loss: 0.0000\n"
     ]
    },
    {
     "name": "stderr",
     "output_type": "stream",
     "text": [
      "Epoch 84:   0%|          | 9/703761 [00:00<20:47:05,  9.41it/s, lr : 0.0001 ; epoch loss : 3.0484 ; loop error : 0.0]\n"
     ]
    },
    {
     "name": "stdout",
     "output_type": "stream",
     "text": [
      "Epoch [84/500] completed, Average Loss: 0.0000\n"
     ]
    },
    {
     "name": "stderr",
     "output_type": "stream",
     "text": [
      "Epoch 85:   0%|          | 9/703761 [00:00<16:59:21, 11.51it/s, lr : 0.0001 ; epoch loss : 3.0297 ; loop error : 0.0]\n"
     ]
    },
    {
     "name": "stdout",
     "output_type": "stream",
     "text": [
      "Epoch [85/500] completed, Average Loss: 0.0000\n"
     ]
    },
    {
     "name": "stderr",
     "output_type": "stream",
     "text": [
      "Epoch 86:   0%|          | 9/703761 [00:00<19:55:40,  9.81it/s, lr : 0.0001 ; epoch loss : 3.0156 ; loop error : 0.0]\n"
     ]
    },
    {
     "name": "stdout",
     "output_type": "stream",
     "text": [
      "Epoch [86/500] completed, Average Loss: 0.0000\n"
     ]
    },
    {
     "name": "stderr",
     "output_type": "stream",
     "text": [
      "Epoch 87:   0%|          | 9/703761 [00:00<19:07:47, 10.22it/s, lr : 0.0001 ; epoch loss : 2.9937 ; loop error : 0.0]\n"
     ]
    },
    {
     "name": "stdout",
     "output_type": "stream",
     "text": [
      "Epoch [87/500] completed, Average Loss: 0.0000\n"
     ]
    },
    {
     "name": "stderr",
     "output_type": "stream",
     "text": [
      "Epoch 88:   0%|          | 9/703761 [00:00<19:26:58, 10.05it/s, lr : 0.0001 ; epoch loss : 2.9813 ; loop error : 0.0]\n"
     ]
    },
    {
     "name": "stdout",
     "output_type": "stream",
     "text": [
      "Epoch [88/500] completed, Average Loss: 0.0000\n"
     ]
    },
    {
     "name": "stderr",
     "output_type": "stream",
     "text": [
      "Epoch 89:   0%|          | 9/703761 [00:00<18:39:10, 10.48it/s, lr : 0.0001 ; epoch loss : 2.9609 ; loop error : 0.0]\n"
     ]
    },
    {
     "name": "stdout",
     "output_type": "stream",
     "text": [
      "Epoch [89/500] completed, Average Loss: 0.0000\n"
     ]
    },
    {
     "name": "stderr",
     "output_type": "stream",
     "text": [
      "Epoch 90:   0%|          | 9/703761 [00:00<19:51:53,  9.84it/s, lr : 0.0001 ; epoch loss : 2.9453 ; loop error : 0.0]\n"
     ]
    },
    {
     "name": "stdout",
     "output_type": "stream",
     "text": [
      "Epoch [90/500] completed, Average Loss: 0.0000\n"
     ]
    },
    {
     "name": "stderr",
     "output_type": "stream",
     "text": [
      "Epoch 91:   0%|          | 9/703761 [00:00<19:12:24, 10.18it/s, lr : 0.0001 ; epoch loss : 2.9281 ; loop error : 0.0]\n"
     ]
    },
    {
     "name": "stdout",
     "output_type": "stream",
     "text": [
      "Epoch [91/500] completed, Average Loss: 0.0000\n"
     ]
    },
    {
     "name": "stderr",
     "output_type": "stream",
     "text": [
      "Epoch 92:   0%|          | 9/703761 [00:00<19:39:23,  9.95it/s, lr : 0.0001 ; epoch loss : 2.9156 ; loop error : 0.0]\n"
     ]
    },
    {
     "name": "stdout",
     "output_type": "stream",
     "text": [
      "Epoch [92/500] completed, Average Loss: 0.0000\n"
     ]
    },
    {
     "name": "stderr",
     "output_type": "stream",
     "text": [
      "Epoch 93:   0%|          | 9/703761 [00:00<19:06:27, 10.23it/s, lr : 0.0001 ; epoch loss : 2.9094 ; loop error : 0.0]\n"
     ]
    },
    {
     "name": "stdout",
     "output_type": "stream",
     "text": [
      "Epoch [93/500] completed, Average Loss: 0.0000\n"
     ]
    },
    {
     "name": "stderr",
     "output_type": "stream",
     "text": [
      "Epoch 94:   0%|          | 9/703761 [00:00<18:28:17, 10.58it/s, lr : 0.0001 ; epoch loss : 2.8953 ; loop error : 0.0]\n"
     ]
    },
    {
     "name": "stdout",
     "output_type": "stream",
     "text": [
      "Epoch [94/500] completed, Average Loss: 0.0000\n"
     ]
    },
    {
     "name": "stderr",
     "output_type": "stream",
     "text": [
      "Epoch 95:   0%|          | 9/703761 [00:00<20:24:22,  9.58it/s, lr : 0.0001 ; epoch loss : 2.8922 ; loop error : 0.0]\n"
     ]
    },
    {
     "name": "stdout",
     "output_type": "stream",
     "text": [
      "Epoch [95/500] completed, Average Loss: 0.0000\n"
     ]
    },
    {
     "name": "stderr",
     "output_type": "stream",
     "text": [
      "Epoch 96:   0%|          | 9/703761 [00:00<18:41:12, 10.46it/s, lr : 0.0001 ; epoch loss : 2.8813 ; loop error : 0.0]\n"
     ]
    },
    {
     "name": "stdout",
     "output_type": "stream",
     "text": [
      "Epoch [96/500] completed, Average Loss: 0.0000\n"
     ]
    },
    {
     "name": "stderr",
     "output_type": "stream",
     "text": [
      "Epoch 97:   0%|          | 9/703761 [00:00<20:30:25,  9.53it/s, lr : 0.0001 ; epoch loss : 2.8734 ; loop error : 0.0]\n"
     ]
    },
    {
     "name": "stdout",
     "output_type": "stream",
     "text": [
      "Epoch [97/500] completed, Average Loss: 0.0000\n"
     ]
    },
    {
     "name": "stderr",
     "output_type": "stream",
     "text": [
      "Epoch 98:   0%|          | 9/703761 [00:00<21:19:48,  9.16it/s, lr : 0.0001 ; epoch loss : 2.8625 ; loop error : 0.0]\n"
     ]
    },
    {
     "name": "stdout",
     "output_type": "stream",
     "text": [
      "Epoch [98/500] completed, Average Loss: 0.0000\n"
     ]
    },
    {
     "name": "stderr",
     "output_type": "stream",
     "text": [
      "Epoch 99:   0%|          | 9/703761 [00:00<18:51:18, 10.37it/s, lr : 0.0001 ; epoch loss : 2.8531 ; loop error : 0.0]\n"
     ]
    },
    {
     "name": "stdout",
     "output_type": "stream",
     "text": [
      "Epoch [99/500] completed, Average Loss: 0.0000\n"
     ]
    },
    {
     "name": "stderr",
     "output_type": "stream",
     "text": [
      "Epoch 100:   0%|          | 9/703761 [00:00<18:47:18, 10.40it/s, lr : 0.0001 ; epoch loss : 2.8453 ; loop error : 0.0]\n"
     ]
    },
    {
     "name": "stdout",
     "output_type": "stream",
     "text": [
      "Epoch [100/500] completed, Average Loss: 0.0000\n"
     ]
    },
    {
     "name": "stderr",
     "output_type": "stream",
     "text": [
      "Epoch 101:   0%|          | 9/703761 [00:00<19:01:20, 10.28it/s, lr : 0.0001 ; epoch loss : 2.8359 ; loop error : 0.0]\n"
     ]
    },
    {
     "name": "stdout",
     "output_type": "stream",
     "text": [
      "Epoch [101/500] completed, Average Loss: 0.0000\n"
     ]
    },
    {
     "name": "stderr",
     "output_type": "stream",
     "text": [
      "Epoch 102:   0%|          | 9/703761 [00:00<19:35:04,  9.98it/s, lr : 0.0001 ; epoch loss : 2.8266 ; loop error : 0.0]\n"
     ]
    },
    {
     "name": "stdout",
     "output_type": "stream",
     "text": [
      "Epoch [102/500] completed, Average Loss: 0.0000\n"
     ]
    },
    {
     "name": "stderr",
     "output_type": "stream",
     "text": [
      "Epoch 103:   0%|          | 9/703761 [00:00<19:53:34,  9.83it/s, lr : 0.0001 ; epoch loss : 2.8188 ; loop error : 0.0]\n"
     ]
    },
    {
     "name": "stdout",
     "output_type": "stream",
     "text": [
      "Epoch [103/500] completed, Average Loss: 0.0000\n"
     ]
    },
    {
     "name": "stderr",
     "output_type": "stream",
     "text": [
      "Epoch 104:   0%|          | 9/703761 [00:00<20:09:31,  9.70it/s, lr : 0.0001 ; epoch loss : 2.8094 ; loop error : 0.0]\n"
     ]
    },
    {
     "name": "stdout",
     "output_type": "stream",
     "text": [
      "Epoch [104/500] completed, Average Loss: 0.0000\n"
     ]
    },
    {
     "name": "stderr",
     "output_type": "stream",
     "text": [
      "Epoch 105:   0%|          | 9/703761 [00:00<19:47:57,  9.87it/s, lr : 0.0001 ; epoch loss : 2.8016 ; loop error : 0.0]\n"
     ]
    },
    {
     "name": "stdout",
     "output_type": "stream",
     "text": [
      "Epoch [105/500] completed, Average Loss: 0.0000\n"
     ]
    },
    {
     "name": "stderr",
     "output_type": "stream",
     "text": [
      "Epoch 106:   0%|          | 9/703761 [00:00<18:39:52, 10.47it/s, lr : 0.0001 ; epoch loss : 2.7953 ; loop error : 0.0]\n"
     ]
    },
    {
     "name": "stdout",
     "output_type": "stream",
     "text": [
      "Epoch [106/500] completed, Average Loss: 0.0000\n"
     ]
    },
    {
     "name": "stderr",
     "output_type": "stream",
     "text": [
      "Epoch 107:   0%|          | 9/703761 [00:00<20:13:15,  9.67it/s, lr : 0.0001 ; epoch loss : 2.7859 ; loop error : 0.0]\n"
     ]
    },
    {
     "name": "stdout",
     "output_type": "stream",
     "text": [
      "Epoch [107/500] completed, Average Loss: 0.0000\n"
     ]
    },
    {
     "name": "stderr",
     "output_type": "stream",
     "text": [
      "Epoch 108:   0%|          | 9/703761 [00:00<19:38:53,  9.95it/s, lr : 0.0001 ; epoch loss : 2.7812 ; loop error : 0.0]\n"
     ]
    },
    {
     "name": "stdout",
     "output_type": "stream",
     "text": [
      "Epoch [108/500] completed, Average Loss: 0.0000\n"
     ]
    },
    {
     "name": "stderr",
     "output_type": "stream",
     "text": [
      "Epoch 109:   0%|          | 9/703761 [00:00<20:07:06,  9.72it/s, lr : 0.0001 ; epoch loss : 2.7687 ; loop error : 0.0]\n"
     ]
    },
    {
     "name": "stdout",
     "output_type": "stream",
     "text": [
      "Epoch [109/500] completed, Average Loss: 0.0000\n"
     ]
    },
    {
     "name": "stderr",
     "output_type": "stream",
     "text": [
      "Epoch 110:   0%|          | 9/703761 [00:00<19:39:06,  9.95it/s, lr : 0.0001 ; epoch loss : 2.7625 ; loop error : 0.0]\n"
     ]
    },
    {
     "name": "stdout",
     "output_type": "stream",
     "text": [
      "Epoch [110/500] completed, Average Loss: 0.0000\n"
     ]
    },
    {
     "name": "stderr",
     "output_type": "stream",
     "text": [
      "Epoch 111:   0%|          | 9/703761 [00:00<20:12:28,  9.67it/s, lr : 0.0001 ; epoch loss : 2.7555 ; loop error : 0.0]\n"
     ]
    },
    {
     "name": "stdout",
     "output_type": "stream",
     "text": [
      "Epoch [111/500] completed, Average Loss: 0.0000\n"
     ]
    },
    {
     "name": "stderr",
     "output_type": "stream",
     "text": [
      "Epoch 112:   0%|          | 9/703761 [00:00<20:56:16,  9.34it/s, lr : 0.0001 ; epoch loss : 2.7484 ; loop error : 0.0]\n"
     ]
    },
    {
     "name": "stdout",
     "output_type": "stream",
     "text": [
      "Epoch [112/500] completed, Average Loss: 0.0000\n"
     ]
    },
    {
     "name": "stderr",
     "output_type": "stream",
     "text": [
      "Epoch 113:   0%|          | 9/703761 [00:00<20:02:29,  9.75it/s, lr : 0.0001 ; epoch loss : 2.7422 ; loop error : 0.0]\n"
     ]
    },
    {
     "name": "stdout",
     "output_type": "stream",
     "text": [
      "Epoch [113/500] completed, Average Loss: 0.0000\n"
     ]
    },
    {
     "name": "stderr",
     "output_type": "stream",
     "text": [
      "Epoch 114:   0%|          | 9/703761 [00:00<20:52:21,  9.37it/s, lr : 0.0001 ; epoch loss : 2.7336 ; loop error : 0.0]\n"
     ]
    },
    {
     "name": "stdout",
     "output_type": "stream",
     "text": [
      "Epoch [114/500] completed, Average Loss: 0.0000\n"
     ]
    },
    {
     "name": "stderr",
     "output_type": "stream",
     "text": [
      "Epoch 115:   0%|          | 9/703761 [00:00<20:13:41,  9.66it/s, lr : 0.0001 ; epoch loss : 2.7281 ; loop error : 0.0]\n"
     ]
    },
    {
     "name": "stdout",
     "output_type": "stream",
     "text": [
      "Epoch [115/500] completed, Average Loss: 0.0000\n"
     ]
    },
    {
     "name": "stderr",
     "output_type": "stream",
     "text": [
      "Epoch 116:   0%|          | 9/703761 [00:00<19:24:53, 10.07it/s, lr : 0.0001 ; epoch loss : 2.7203 ; loop error : 0.0]\n"
     ]
    },
    {
     "name": "stdout",
     "output_type": "stream",
     "text": [
      "Epoch [116/500] completed, Average Loss: 0.0000\n"
     ]
    },
    {
     "name": "stderr",
     "output_type": "stream",
     "text": [
      "Epoch 117:   0%|          | 9/703761 [00:00<18:43:35, 10.44it/s, lr : 0.0001 ; epoch loss : 2.7133 ; loop error : 0.0]\n"
     ]
    },
    {
     "name": "stdout",
     "output_type": "stream",
     "text": [
      "Epoch [117/500] completed, Average Loss: 0.0000\n"
     ]
    },
    {
     "name": "stderr",
     "output_type": "stream",
     "text": [
      "Epoch 118:   0%|          | 9/703761 [00:00<18:55:59, 10.33it/s, lr : 0.0001 ; epoch loss : 2.7047 ; loop error : 0.0]\n"
     ]
    },
    {
     "name": "stdout",
     "output_type": "stream",
     "text": [
      "Epoch [118/500] completed, Average Loss: 0.0000\n"
     ]
    },
    {
     "name": "stderr",
     "output_type": "stream",
     "text": [
      "Epoch 119:   0%|          | 9/703761 [00:00<21:13:36,  9.21it/s, lr : 0.0001 ; epoch loss : 2.6984 ; loop error : 0.0]\n"
     ]
    },
    {
     "name": "stdout",
     "output_type": "stream",
     "text": [
      "Epoch [119/500] completed, Average Loss: 0.0000\n"
     ]
    },
    {
     "name": "stderr",
     "output_type": "stream",
     "text": [
      "Epoch 120:   0%|          | 9/703761 [00:00<19:49:35,  9.86it/s, lr : 0.0001 ; epoch loss : 2.6898 ; loop error : 0.0]\n"
     ]
    },
    {
     "name": "stdout",
     "output_type": "stream",
     "text": [
      "Epoch [120/500] completed, Average Loss: 0.0000\n"
     ]
    },
    {
     "name": "stderr",
     "output_type": "stream",
     "text": [
      "Epoch 121:   0%|          | 9/703761 [00:00<19:50:55,  9.85it/s, lr : 0.0001 ; epoch loss : 2.6859 ; loop error : 0.0]\n"
     ]
    },
    {
     "name": "stdout",
     "output_type": "stream",
     "text": [
      "Epoch [121/500] completed, Average Loss: 0.0000\n"
     ]
    },
    {
     "name": "stderr",
     "output_type": "stream",
     "text": [
      "Epoch 122:   0%|          | 9/703761 [00:00<19:21:21, 10.10it/s, lr : 0.0001 ; epoch loss : 2.6766 ; loop error : 0.0]\n"
     ]
    },
    {
     "name": "stdout",
     "output_type": "stream",
     "text": [
      "Epoch [122/500] completed, Average Loss: 0.0000\n"
     ]
    },
    {
     "name": "stderr",
     "output_type": "stream",
     "text": [
      "Epoch 123:   0%|          | 9/703761 [00:00<19:51:04,  9.85it/s, lr : 0.0001 ; epoch loss : 2.6727 ; loop error : 0.0]\n"
     ]
    },
    {
     "name": "stdout",
     "output_type": "stream",
     "text": [
      "Epoch [123/500] completed, Average Loss: 0.0000\n"
     ]
    },
    {
     "name": "stderr",
     "output_type": "stream",
     "text": [
      "Epoch 124:   0%|          | 9/703761 [00:00<19:02:53, 10.26it/s, lr : 0.0001 ; epoch loss : 2.6680 ; loop error : 0.0]\n"
     ]
    },
    {
     "name": "stdout",
     "output_type": "stream",
     "text": [
      "Epoch [124/500] completed, Average Loss: 0.0000\n"
     ]
    },
    {
     "name": "stderr",
     "output_type": "stream",
     "text": [
      "Epoch 125:   0%|          | 9/703761 [00:00<19:45:17,  9.90it/s, lr : 0.0001 ; epoch loss : 2.6609 ; loop error : 0.0]\n"
     ]
    },
    {
     "name": "stdout",
     "output_type": "stream",
     "text": [
      "Epoch [125/500] completed, Average Loss: 0.0000\n"
     ]
    },
    {
     "name": "stderr",
     "output_type": "stream",
     "text": [
      "Epoch 126:   0%|          | 9/703761 [00:00<19:01:06, 10.28it/s, lr : 0.0001 ; epoch loss : 2.6555 ; loop error : 0.0]\n"
     ]
    },
    {
     "name": "stdout",
     "output_type": "stream",
     "text": [
      "Epoch [126/500] completed, Average Loss: 0.0000\n"
     ]
    },
    {
     "name": "stderr",
     "output_type": "stream",
     "text": [
      "Epoch 127:   0%|          | 9/703761 [00:00<19:51:12,  9.85it/s, lr : 0.0001 ; epoch loss : 2.6461 ; loop error : 0.0]\n"
     ]
    },
    {
     "name": "stdout",
     "output_type": "stream",
     "text": [
      "Epoch [127/500] completed, Average Loss: 0.0000\n"
     ]
    },
    {
     "name": "stderr",
     "output_type": "stream",
     "text": [
      "Epoch 128:   0%|          | 9/703761 [00:00<20:39:01,  9.47it/s, lr : 0.0001 ; epoch loss : 2.6391 ; loop error : 0.0]\n"
     ]
    },
    {
     "name": "stdout",
     "output_type": "stream",
     "text": [
      "Epoch [128/500] completed, Average Loss: 0.0000\n"
     ]
    },
    {
     "name": "stderr",
     "output_type": "stream",
     "text": [
      "Epoch 129:   0%|          | 9/703761 [00:00<20:04:24,  9.74it/s, lr : 0.0001 ; epoch loss : 2.6367 ; loop error : 0.0]\n"
     ]
    },
    {
     "name": "stdout",
     "output_type": "stream",
     "text": [
      "Epoch [129/500] completed, Average Loss: 0.0000\n"
     ]
    },
    {
     "name": "stderr",
     "output_type": "stream",
     "text": [
      "Epoch 130:   0%|          | 9/703761 [00:00<19:58:57,  9.78it/s, lr : 0.0001 ; epoch loss : 2.6273 ; loop error : 0.0]\n"
     ]
    },
    {
     "name": "stdout",
     "output_type": "stream",
     "text": [
      "Epoch [130/500] completed, Average Loss: 0.0000\n"
     ]
    },
    {
     "name": "stderr",
     "output_type": "stream",
     "text": [
      "Epoch 131:   0%|          | 9/703761 [00:00<19:40:49,  9.93it/s, lr : 0.0001 ; epoch loss : 2.6234 ; loop error : 0.0]\n"
     ]
    },
    {
     "name": "stdout",
     "output_type": "stream",
     "text": [
      "Epoch [131/500] completed, Average Loss: 0.0000\n"
     ]
    },
    {
     "name": "stderr",
     "output_type": "stream",
     "text": [
      "Epoch 132:   0%|          | 9/703761 [00:00<18:50:07, 10.38it/s, lr : 0.0001 ; epoch loss : 2.6141 ; loop error : 0.0]\n"
     ]
    },
    {
     "name": "stdout",
     "output_type": "stream",
     "text": [
      "Epoch [132/500] completed, Average Loss: 0.0000\n"
     ]
    },
    {
     "name": "stderr",
     "output_type": "stream",
     "text": [
      "Epoch 133:   0%|          | 9/703761 [00:00<19:35:01,  9.98it/s, lr : 0.0001 ; epoch loss : 2.6086 ; loop error : 0.0]\n"
     ]
    },
    {
     "name": "stdout",
     "output_type": "stream",
     "text": [
      "Epoch [133/500] completed, Average Loss: 0.0000\n"
     ]
    },
    {
     "name": "stderr",
     "output_type": "stream",
     "text": [
      "Epoch 134:   0%|          | 9/703761 [00:00<19:51:19,  9.85it/s, lr : 0.0001 ; epoch loss : 2.6047 ; loop error : 0.0]\n"
     ]
    },
    {
     "name": "stdout",
     "output_type": "stream",
     "text": [
      "Epoch [134/500] completed, Average Loss: 0.0000\n"
     ]
    },
    {
     "name": "stderr",
     "output_type": "stream",
     "text": [
      "Epoch 135:   0%|          | 9/703761 [00:00<18:18:50, 10.67it/s, lr : 0.0001 ; epoch loss : 2.6078 ; loop error : 0.0]\n"
     ]
    },
    {
     "name": "stdout",
     "output_type": "stream",
     "text": [
      "Epoch [135/500] completed, Average Loss: 0.0000\n"
     ]
    },
    {
     "name": "stderr",
     "output_type": "stream",
     "text": [
      "Epoch 136:   0%|          | 9/703761 [00:00<20:00:54,  9.77it/s, lr : 0.0001 ; epoch loss : 2.6008 ; loop error : 0.0]\n"
     ]
    },
    {
     "name": "stdout",
     "output_type": "stream",
     "text": [
      "Epoch [136/500] completed, Average Loss: 0.0000\n"
     ]
    },
    {
     "name": "stderr",
     "output_type": "stream",
     "text": [
      "Epoch 137:   0%|          | 9/703761 [00:00<19:44:56,  9.90it/s, lr : 0.0001 ; epoch loss : 2.6164 ; loop error : 0.0]\n"
     ]
    },
    {
     "name": "stdout",
     "output_type": "stream",
     "text": [
      "Epoch [137/500] completed, Average Loss: 0.0000\n"
     ]
    },
    {
     "name": "stderr",
     "output_type": "stream",
     "text": [
      "Epoch 138:   0%|          | 9/703761 [00:00<19:11:30, 10.19it/s, lr : 0.0001 ; epoch loss : 2.6742 ; loop error : 0.0]\n"
     ]
    },
    {
     "name": "stdout",
     "output_type": "stream",
     "text": [
      "Epoch [138/500] completed, Average Loss: 0.0000\n"
     ]
    },
    {
     "name": "stderr",
     "output_type": "stream",
     "text": [
      "Epoch 139:   0%|          | 9/703761 [00:00<20:02:24,  9.75it/s, lr : 0.0001 ; epoch loss : 2.7289 ; loop error : 0.0]\n"
     ]
    },
    {
     "name": "stdout",
     "output_type": "stream",
     "text": [
      "Epoch [139/500] completed, Average Loss: 0.0000\n"
     ]
    },
    {
     "name": "stderr",
     "output_type": "stream",
     "text": [
      "Epoch 140:   0%|          | 9/703761 [00:00<19:26:29, 10.06it/s, lr : 0.0001 ; epoch loss : 2.7492 ; loop error : 0.0]\n"
     ]
    },
    {
     "name": "stdout",
     "output_type": "stream",
     "text": [
      "Epoch [140/500] completed, Average Loss: 0.0000\n"
     ]
    },
    {
     "name": "stderr",
     "output_type": "stream",
     "text": [
      "Epoch 141:   0%|          | 9/703761 [00:00<19:26:28, 10.06it/s, lr : 0.0001 ; epoch loss : 2.7258 ; loop error : 0.0]\n"
     ]
    },
    {
     "name": "stdout",
     "output_type": "stream",
     "text": [
      "Epoch [141/500] completed, Average Loss: 0.0000\n"
     ]
    },
    {
     "name": "stderr",
     "output_type": "stream",
     "text": [
      "Epoch 142:   0%|          | 9/703761 [00:00<19:30:19, 10.02it/s, lr : 0.0001 ; epoch loss : 2.6898 ; loop error : 0.0]\n"
     ]
    },
    {
     "name": "stdout",
     "output_type": "stream",
     "text": [
      "Epoch [142/500] completed, Average Loss: 0.0000\n"
     ]
    },
    {
     "name": "stderr",
     "output_type": "stream",
     "text": [
      "Epoch 143:   0%|          | 9/703761 [00:00<19:26:26, 10.06it/s, lr : 0.0001 ; epoch loss : 2.6703 ; loop error : 0.0]\n"
     ]
    },
    {
     "name": "stdout",
     "output_type": "stream",
     "text": [
      "Epoch [143/500] completed, Average Loss: 0.0000\n"
     ]
    },
    {
     "name": "stderr",
     "output_type": "stream",
     "text": [
      "Epoch 144:   0%|          | 9/703761 [00:00<19:26:24, 10.06it/s, lr : 0.0001 ; epoch loss : 2.6297 ; loop error : 0.0]\n"
     ]
    },
    {
     "name": "stdout",
     "output_type": "stream",
     "text": [
      "Epoch [144/500] completed, Average Loss: 0.0000\n"
     ]
    },
    {
     "name": "stderr",
     "output_type": "stream",
     "text": [
      "Epoch 145:   0%|          | 9/703761 [00:00<19:51:43,  9.84it/s, lr : 0.0001 ; epoch loss : 2.5977 ; loop error : 0.0]\n"
     ]
    },
    {
     "name": "stdout",
     "output_type": "stream",
     "text": [
      "Epoch [145/500] completed, Average Loss: 0.0000\n"
     ]
    },
    {
     "name": "stderr",
     "output_type": "stream",
     "text": [
      "Epoch 146:   0%|          | 9/703761 [00:00<20:07:04,  9.72it/s, lr : 0.0001 ; epoch loss : 2.5625 ; loop error : 0.0]\n"
     ]
    },
    {
     "name": "stdout",
     "output_type": "stream",
     "text": [
      "Epoch [146/500] completed, Average Loss: 0.0000\n"
     ]
    },
    {
     "name": "stderr",
     "output_type": "stream",
     "text": [
      "Epoch 147:   0%|          | 9/703761 [00:00<19:10:43, 10.19it/s, lr : 0.0001 ; epoch loss : 2.5430 ; loop error : 0.0]\n"
     ]
    },
    {
     "name": "stdout",
     "output_type": "stream",
     "text": [
      "Epoch [147/500] completed, Average Loss: 0.0000\n"
     ]
    },
    {
     "name": "stderr",
     "output_type": "stream",
     "text": [
      "Epoch 148:   0%|          | 9/703761 [00:00<19:32:55, 10.00it/s, lr : 0.0001 ; epoch loss : 2.5195 ; loop error : 0.0]\n"
     ]
    },
    {
     "name": "stdout",
     "output_type": "stream",
     "text": [
      "Epoch [148/500] completed, Average Loss: 0.0000\n"
     ]
    },
    {
     "name": "stderr",
     "output_type": "stream",
     "text": [
      "Epoch 149:   0%|          | 9/703761 [00:00<18:46:30, 10.41it/s, lr : 0.0001 ; epoch loss : 2.5148 ; loop error : 0.0]\n"
     ]
    },
    {
     "name": "stdout",
     "output_type": "stream",
     "text": [
      "Epoch [149/500] completed, Average Loss: 0.0000\n"
     ]
    },
    {
     "name": "stderr",
     "output_type": "stream",
     "text": [
      "Epoch 150:   0%|          | 9/703761 [00:00<19:59:28,  9.78it/s, lr : 0.0001 ; epoch loss : 2.5094 ; loop error : 0.0]\n"
     ]
    },
    {
     "name": "stdout",
     "output_type": "stream",
     "text": [
      "Epoch [150/500] completed, Average Loss: 0.0000\n"
     ]
    },
    {
     "name": "stderr",
     "output_type": "stream",
     "text": [
      "Epoch 151:   0%|          | 9/703761 [00:00<19:46:16,  9.89it/s, lr : 0.0001 ; epoch loss : 2.5102 ; loop error : 0.0]\n"
     ]
    },
    {
     "name": "stdout",
     "output_type": "stream",
     "text": [
      "Epoch [151/500] completed, Average Loss: 0.0000\n"
     ]
    },
    {
     "name": "stderr",
     "output_type": "stream",
     "text": [
      "Epoch 152:   0%|          | 9/703761 [00:00<18:35:12, 10.52it/s, lr : 0.0001 ; epoch loss : 2.5070 ; loop error : 0.0]\n"
     ]
    },
    {
     "name": "stdout",
     "output_type": "stream",
     "text": [
      "Epoch [152/500] completed, Average Loss: 0.0000\n"
     ]
    },
    {
     "name": "stderr",
     "output_type": "stream",
     "text": [
      "Epoch 153:   0%|          | 9/703761 [00:00<18:03:12, 10.83it/s, lr : 0.0001 ; epoch loss : 2.4883 ; loop error : 0.0]\n"
     ]
    },
    {
     "name": "stdout",
     "output_type": "stream",
     "text": [
      "Epoch [153/500] completed, Average Loss: 0.0000\n"
     ]
    },
    {
     "name": "stderr",
     "output_type": "stream",
     "text": [
      "Epoch 154:   0%|          | 9/703761 [00:00<17:32:50, 11.14it/s, lr : 0.0001 ; epoch loss : 2.4797 ; loop error : 0.0]\n"
     ]
    },
    {
     "name": "stdout",
     "output_type": "stream",
     "text": [
      "Epoch [154/500] completed, Average Loss: 0.0000\n"
     ]
    },
    {
     "name": "stderr",
     "output_type": "stream",
     "text": [
      "Epoch 155:   0%|          | 9/703761 [00:00<18:38:36, 10.49it/s, lr : 0.0001 ; epoch loss : 2.4570 ; loop error : 0.0]\n"
     ]
    },
    {
     "name": "stdout",
     "output_type": "stream",
     "text": [
      "Epoch [155/500] completed, Average Loss: 0.0000\n"
     ]
    },
    {
     "name": "stderr",
     "output_type": "stream",
     "text": [
      "Epoch 156:   0%|          | 9/703761 [00:00<18:32:26, 10.54it/s, lr : 0.0001 ; epoch loss : 2.4594 ; loop error : 0.0]\n"
     ]
    },
    {
     "name": "stdout",
     "output_type": "stream",
     "text": [
      "Epoch [156/500] completed, Average Loss: 0.0000\n"
     ]
    },
    {
     "name": "stderr",
     "output_type": "stream",
     "text": [
      "Epoch 157:   0%|          | 9/703761 [00:00<17:56:38, 10.89it/s, lr : 0.0001 ; epoch loss : 2.4555 ; loop error : 0.0]\n"
     ]
    },
    {
     "name": "stdout",
     "output_type": "stream",
     "text": [
      "Epoch [157/500] completed, Average Loss: 0.0000\n"
     ]
    },
    {
     "name": "stderr",
     "output_type": "stream",
     "text": [
      "Epoch 158:   0%|          | 9/703761 [00:00<18:31:21, 10.55it/s, lr : 0.0001 ; epoch loss : 2.4227 ; loop error : 0.0]\n"
     ]
    },
    {
     "name": "stdout",
     "output_type": "stream",
     "text": [
      "Epoch [158/500] completed, Average Loss: 0.0000\n"
     ]
    },
    {
     "name": "stderr",
     "output_type": "stream",
     "text": [
      "Epoch 159:   0%|          | 9/703761 [00:00<18:19:17, 10.67it/s, lr : 0.0001 ; epoch loss : 2.4039 ; loop error : 0.0]\n"
     ]
    },
    {
     "name": "stdout",
     "output_type": "stream",
     "text": [
      "Epoch [159/500] completed, Average Loss: 0.0000\n"
     ]
    },
    {
     "name": "stderr",
     "output_type": "stream",
     "text": [
      "Epoch 160:   0%|          | 9/703761 [00:00<17:48:35, 10.98it/s, lr : 0.0001 ; epoch loss : 2.3992 ; loop error : 0.0]\n"
     ]
    },
    {
     "name": "stdout",
     "output_type": "stream",
     "text": [
      "Epoch [160/500] completed, Average Loss: 0.0000\n"
     ]
    },
    {
     "name": "stderr",
     "output_type": "stream",
     "text": [
      "Epoch 161:   0%|          | 9/703761 [00:00<19:38:50,  9.95it/s, lr : 0.0001 ; epoch loss : 2.3898 ; loop error : 0.0]\n"
     ]
    },
    {
     "name": "stdout",
     "output_type": "stream",
     "text": [
      "Epoch [161/500] completed, Average Loss: 0.0000\n"
     ]
    },
    {
     "name": "stderr",
     "output_type": "stream",
     "text": [
      "Epoch 162:   0%|          | 9/703761 [00:00<18:08:42, 10.77it/s, lr : 0.0001 ; epoch loss : 2.3813 ; loop error : 0.0]\n"
     ]
    },
    {
     "name": "stdout",
     "output_type": "stream",
     "text": [
      "Epoch [162/500] completed, Average Loss: 0.0000\n"
     ]
    },
    {
     "name": "stderr",
     "output_type": "stream",
     "text": [
      "Epoch 163:   0%|          | 9/703761 [00:00<17:54:15, 10.92it/s, lr : 0.0001 ; epoch loss : 2.3484 ; loop error : 0.0]\n"
     ]
    },
    {
     "name": "stdout",
     "output_type": "stream",
     "text": [
      "Epoch [163/500] completed, Average Loss: 0.0000\n"
     ]
    },
    {
     "name": "stderr",
     "output_type": "stream",
     "text": [
      "Epoch 164:   0%|          | 9/703761 [00:00<18:00:58, 10.85it/s, lr : 0.0001 ; epoch loss : 2.3391 ; loop error : 0.0]\n"
     ]
    },
    {
     "name": "stdout",
     "output_type": "stream",
     "text": [
      "Epoch [164/500] completed, Average Loss: 0.0000\n"
     ]
    },
    {
     "name": "stderr",
     "output_type": "stream",
     "text": [
      "Epoch 165:   0%|          | 9/703761 [00:00<18:48:34, 10.39it/s, lr : 0.0001 ; epoch loss : 2.3172 ; loop error : 0.0]\n"
     ]
    },
    {
     "name": "stdout",
     "output_type": "stream",
     "text": [
      "Epoch [165/500] completed, Average Loss: 0.0000\n"
     ]
    },
    {
     "name": "stderr",
     "output_type": "stream",
     "text": [
      "Epoch 166:   0%|          | 9/703761 [00:00<17:32:49, 11.14it/s, lr : 0.0001 ; epoch loss : 2.3047 ; loop error : 0.0]\n"
     ]
    },
    {
     "name": "stdout",
     "output_type": "stream",
     "text": [
      "Epoch [166/500] completed, Average Loss: 0.0000\n"
     ]
    },
    {
     "name": "stderr",
     "output_type": "stream",
     "text": [
      "Epoch 167:   0%|          | 9/703761 [00:00<19:08:39, 10.21it/s, lr : 0.0001 ; epoch loss : 2.3078 ; loop error : 0.0]\n"
     ]
    },
    {
     "name": "stdout",
     "output_type": "stream",
     "text": [
      "Epoch [167/500] completed, Average Loss: 0.0000\n"
     ]
    },
    {
     "name": "stderr",
     "output_type": "stream",
     "text": [
      "Epoch 168:   0%|          | 9/703761 [00:00<18:20:04, 10.66it/s, lr : 0.0001 ; epoch loss : 2.3047 ; loop error : 0.0]\n"
     ]
    },
    {
     "name": "stdout",
     "output_type": "stream",
     "text": [
      "Epoch [168/500] completed, Average Loss: 0.0000\n"
     ]
    },
    {
     "name": "stderr",
     "output_type": "stream",
     "text": [
      "Epoch 169:   0%|          | 9/703761 [00:00<18:43:46, 10.44it/s, lr : 0.0001 ; epoch loss : 2.3156 ; loop error : 0.0]\n"
     ]
    },
    {
     "name": "stdout",
     "output_type": "stream",
     "text": [
      "Epoch [169/500] completed, Average Loss: 0.0000\n"
     ]
    },
    {
     "name": "stderr",
     "output_type": "stream",
     "text": [
      "Epoch 170:   0%|          | 9/703761 [00:00<19:12:35, 10.18it/s, lr : 0.0001 ; epoch loss : 2.2992 ; loop error : 0.0]\n"
     ]
    },
    {
     "name": "stdout",
     "output_type": "stream",
     "text": [
      "Epoch [170/500] completed, Average Loss: 0.0000\n"
     ]
    },
    {
     "name": "stderr",
     "output_type": "stream",
     "text": [
      "Epoch 171:   0%|          | 9/703761 [00:00<18:48:45, 10.39it/s, lr : 0.0001 ; epoch loss : 2.2984 ; loop error : 0.0]\n"
     ]
    },
    {
     "name": "stdout",
     "output_type": "stream",
     "text": [
      "Epoch [171/500] completed, Average Loss: 0.0000\n"
     ]
    },
    {
     "name": "stderr",
     "output_type": "stream",
     "text": [
      "Epoch 172:   0%|          | 9/703761 [00:00<17:58:56, 10.87it/s, lr : 0.0001 ; epoch loss : 2.2852 ; loop error : 0.0]\n"
     ]
    },
    {
     "name": "stdout",
     "output_type": "stream",
     "text": [
      "Epoch [172/500] completed, Average Loss: 0.0000\n"
     ]
    },
    {
     "name": "stderr",
     "output_type": "stream",
     "text": [
      "Epoch 173:   0%|          | 9/703761 [00:00<18:28:12, 10.58it/s, lr : 0.0001 ; epoch loss : 2.2734 ; loop error : 0.0]\n"
     ]
    },
    {
     "name": "stdout",
     "output_type": "stream",
     "text": [
      "Epoch [173/500] completed, Average Loss: 0.0000\n"
     ]
    },
    {
     "name": "stderr",
     "output_type": "stream",
     "text": [
      "Epoch 174:   0%|          | 9/703761 [00:00<18:52:19, 10.36it/s, lr : 0.0001 ; epoch loss : 2.2570 ; loop error : 0.0]\n"
     ]
    },
    {
     "name": "stdout",
     "output_type": "stream",
     "text": [
      "Epoch [174/500] completed, Average Loss: 0.0000\n"
     ]
    },
    {
     "name": "stderr",
     "output_type": "stream",
     "text": [
      "Epoch 175:   0%|          | 9/703761 [00:00<18:50:12, 10.38it/s, lr : 0.0001 ; epoch loss : 2.2484 ; loop error : 0.0]\n"
     ]
    },
    {
     "name": "stdout",
     "output_type": "stream",
     "text": [
      "Epoch [175/500] completed, Average Loss: 0.0000\n"
     ]
    },
    {
     "name": "stderr",
     "output_type": "stream",
     "text": [
      "Epoch 176:   0%|          | 9/703761 [00:00<18:08:17, 10.78it/s, lr : 0.0001 ; epoch loss : 2.2289 ; loop error : 0.0]\n"
     ]
    },
    {
     "name": "stdout",
     "output_type": "stream",
     "text": [
      "Epoch [176/500] completed, Average Loss: 0.0000\n"
     ]
    },
    {
     "name": "stderr",
     "output_type": "stream",
     "text": [
      "Epoch 177:   0%|          | 9/703761 [00:00<18:05:45, 10.80it/s, lr : 0.0001 ; epoch loss : 2.1977 ; loop error : 0.0]\n"
     ]
    },
    {
     "name": "stdout",
     "output_type": "stream",
     "text": [
      "Epoch [177/500] completed, Average Loss: 0.0000\n"
     ]
    },
    {
     "name": "stderr",
     "output_type": "stream",
     "text": [
      "Epoch 178:   0%|          | 9/703761 [00:00<18:32:01, 10.55it/s, lr : 0.0001 ; epoch loss : 2.1922 ; loop error : 0.0]\n"
     ]
    },
    {
     "name": "stdout",
     "output_type": "stream",
     "text": [
      "Epoch [178/500] completed, Average Loss: 0.0000\n"
     ]
    },
    {
     "name": "stderr",
     "output_type": "stream",
     "text": [
      "Epoch 179:   0%|          | 9/703761 [00:00<17:57:51, 10.88it/s, lr : 0.0001 ; epoch loss : 2.1875 ; loop error : 0.0]\n"
     ]
    },
    {
     "name": "stdout",
     "output_type": "stream",
     "text": [
      "Epoch [179/500] completed, Average Loss: 0.0000\n"
     ]
    },
    {
     "name": "stderr",
     "output_type": "stream",
     "text": [
      "Epoch 180:   0%|          | 9/703761 [00:00<17:57:23, 10.89it/s, lr : 0.0001 ; epoch loss : 2.1711 ; loop error : 0.0]\n"
     ]
    },
    {
     "name": "stdout",
     "output_type": "stream",
     "text": [
      "Epoch [180/500] completed, Average Loss: 0.0000\n"
     ]
    },
    {
     "name": "stderr",
     "output_type": "stream",
     "text": [
      "Epoch 181:   0%|          | 9/703761 [00:00<18:26:12, 10.60it/s, lr : 0.0001 ; epoch loss : 2.1664 ; loop error : 0.0]\n"
     ]
    },
    {
     "name": "stdout",
     "output_type": "stream",
     "text": [
      "Epoch [181/500] completed, Average Loss: 0.0000\n"
     ]
    },
    {
     "name": "stderr",
     "output_type": "stream",
     "text": [
      "Epoch 182:   0%|          | 9/703761 [00:00<18:21:34, 10.65it/s, lr : 0.0001 ; epoch loss : 2.1703 ; loop error : 0.0]\n"
     ]
    },
    {
     "name": "stdout",
     "output_type": "stream",
     "text": [
      "Epoch [182/500] completed, Average Loss: 0.0000\n"
     ]
    },
    {
     "name": "stderr",
     "output_type": "stream",
     "text": [
      "Epoch 183:   0%|          | 9/703761 [00:00<19:21:34, 10.10it/s, lr : 0.0001 ; epoch loss : 2.1625 ; loop error : 0.0]\n"
     ]
    },
    {
     "name": "stdout",
     "output_type": "stream",
     "text": [
      "Epoch [183/500] completed, Average Loss: 0.0000\n"
     ]
    },
    {
     "name": "stderr",
     "output_type": "stream",
     "text": [
      "Epoch 184:   0%|          | 9/703761 [00:00<19:53:35,  9.83it/s, lr : 0.0001 ; epoch loss : 2.1477 ; loop error : 0.0]\n"
     ]
    },
    {
     "name": "stdout",
     "output_type": "stream",
     "text": [
      "Epoch [184/500] completed, Average Loss: 0.0000\n"
     ]
    },
    {
     "name": "stderr",
     "output_type": "stream",
     "text": [
      "Epoch 185:   0%|          | 9/703761 [00:00<19:22:37, 10.09it/s, lr : 0.0001 ; epoch loss : 2.1297 ; loop error : 0.0]\n"
     ]
    },
    {
     "name": "stdout",
     "output_type": "stream",
     "text": [
      "Epoch [185/500] completed, Average Loss: 0.0000\n"
     ]
    },
    {
     "name": "stderr",
     "output_type": "stream",
     "text": [
      "Epoch 186:   0%|          | 9/703761 [00:00<18:03:34, 10.82it/s, lr : 0.0001 ; epoch loss : 2.1172 ; loop error : 0.0]\n"
     ]
    },
    {
     "name": "stdout",
     "output_type": "stream",
     "text": [
      "Epoch [186/500] completed, Average Loss: 0.0000\n"
     ]
    },
    {
     "name": "stderr",
     "output_type": "stream",
     "text": [
      "Epoch 187:   0%|          | 9/703761 [00:00<17:48:58, 10.97it/s, lr : 0.0001 ; epoch loss : 2.0992 ; loop error : 0.0]\n"
     ]
    },
    {
     "name": "stdout",
     "output_type": "stream",
     "text": [
      "Epoch [187/500] completed, Average Loss: 0.0000\n"
     ]
    },
    {
     "name": "stderr",
     "output_type": "stream",
     "text": [
      "Epoch 188:   0%|          | 9/703761 [00:00<18:54:21, 10.34it/s, lr : 0.0001 ; epoch loss : 2.0922 ; loop error : 0.0]\n"
     ]
    },
    {
     "name": "stdout",
     "output_type": "stream",
     "text": [
      "Epoch [188/500] completed, Average Loss: 0.0000\n"
     ]
    },
    {
     "name": "stderr",
     "output_type": "stream",
     "text": [
      "Epoch 189:   0%|          | 9/703761 [00:00<18:44:20, 10.43it/s, lr : 0.0001 ; epoch loss : 2.1039 ; loop error : 0.0]\n"
     ]
    },
    {
     "name": "stdout",
     "output_type": "stream",
     "text": [
      "Epoch [189/500] completed, Average Loss: 0.0000\n"
     ]
    },
    {
     "name": "stderr",
     "output_type": "stream",
     "text": [
      "Epoch 190:   0%|          | 9/703761 [00:00<18:40:50, 10.46it/s, lr : 0.0001 ; epoch loss : 2.1070 ; loop error : 0.0]\n"
     ]
    },
    {
     "name": "stdout",
     "output_type": "stream",
     "text": [
      "Epoch [190/500] completed, Average Loss: 0.0000\n"
     ]
    },
    {
     "name": "stderr",
     "output_type": "stream",
     "text": [
      "Epoch 191:   0%|          | 9/703761 [00:00<18:28:56, 10.58it/s, lr : 0.0001 ; epoch loss : 2.0859 ; loop error : 0.0]\n"
     ]
    },
    {
     "name": "stdout",
     "output_type": "stream",
     "text": [
      "Epoch [191/500] completed, Average Loss: 0.0000\n"
     ]
    },
    {
     "name": "stderr",
     "output_type": "stream",
     "text": [
      "Epoch 192:   0%|          | 9/703761 [00:00<18:20:00, 10.66it/s, lr : 0.0001 ; epoch loss : 2.0523 ; loop error : 0.0]\n"
     ]
    },
    {
     "name": "stdout",
     "output_type": "stream",
     "text": [
      "Epoch [192/500] completed, Average Loss: 0.0000\n"
     ]
    },
    {
     "name": "stderr",
     "output_type": "stream",
     "text": [
      "Epoch 193:   0%|          | 9/703761 [00:00<17:51:40, 10.94it/s, lr : 0.0001 ; epoch loss : 2.0430 ; loop error : 0.0]\n"
     ]
    },
    {
     "name": "stdout",
     "output_type": "stream",
     "text": [
      "Epoch [193/500] completed, Average Loss: 0.0000\n"
     ]
    },
    {
     "name": "stderr",
     "output_type": "stream",
     "text": [
      "Epoch 194:   0%|          | 9/703761 [00:00<17:54:18, 10.92it/s, lr : 0.0001 ; epoch loss : 2.0344 ; loop error : 0.0]\n"
     ]
    },
    {
     "name": "stdout",
     "output_type": "stream",
     "text": [
      "Epoch [194/500] completed, Average Loss: 0.0000\n"
     ]
    },
    {
     "name": "stderr",
     "output_type": "stream",
     "text": [
      "Epoch 195:   0%|          | 9/703761 [00:00<17:27:31, 11.20it/s, lr : 0.0001 ; epoch loss : 2.0469 ; loop error : 0.0]\n"
     ]
    },
    {
     "name": "stdout",
     "output_type": "stream",
     "text": [
      "Epoch [195/500] completed, Average Loss: 0.0000\n"
     ]
    },
    {
     "name": "stderr",
     "output_type": "stream",
     "text": [
      "Epoch 196:   0%|          | 9/703761 [00:00<18:46:18, 10.41it/s, lr : 0.0001 ; epoch loss : 2.0617 ; loop error : 0.0]\n"
     ]
    },
    {
     "name": "stdout",
     "output_type": "stream",
     "text": [
      "Epoch [196/500] completed, Average Loss: 0.0000\n"
     ]
    },
    {
     "name": "stderr",
     "output_type": "stream",
     "text": [
      "Epoch 197:   0%|          | 9/703761 [00:00<17:54:03, 10.92it/s, lr : 0.0001 ; epoch loss : 2.0531 ; loop error : 0.0]\n"
     ]
    },
    {
     "name": "stdout",
     "output_type": "stream",
     "text": [
      "Epoch [197/500] completed, Average Loss: 0.0000\n"
     ]
    },
    {
     "name": "stderr",
     "output_type": "stream",
     "text": [
      "Epoch 198:   0%|          | 9/703761 [00:00<19:16:41, 10.14it/s, lr : 0.0001 ; epoch loss : 2.0445 ; loop error : 0.0]\n"
     ]
    },
    {
     "name": "stdout",
     "output_type": "stream",
     "text": [
      "Epoch [198/500] completed, Average Loss: 0.0000\n"
     ]
    },
    {
     "name": "stderr",
     "output_type": "stream",
     "text": [
      "Epoch 199:   0%|          | 9/703761 [00:00<17:54:41, 10.91it/s, lr : 0.0001 ; epoch loss : 2.0141 ; loop error : 0.0]\n"
     ]
    },
    {
     "name": "stdout",
     "output_type": "stream",
     "text": [
      "Epoch [199/500] completed, Average Loss: 0.0000\n"
     ]
    },
    {
     "name": "stderr",
     "output_type": "stream",
     "text": [
      "Epoch 200:   0%|          | 9/703761 [00:00<18:54:49, 10.34it/s, lr : 0.0001 ; epoch loss : 2.0219 ; loop error : 0.0]\n"
     ]
    },
    {
     "name": "stdout",
     "output_type": "stream",
     "text": [
      "Epoch [200/500] completed, Average Loss: 0.0000\n"
     ]
    },
    {
     "name": "stderr",
     "output_type": "stream",
     "text": [
      "Epoch 201:   0%|          | 9/703761 [00:00<18:58:24, 10.30it/s, lr : 0.0001 ; epoch loss : 2.0172 ; loop error : 0.0]\n"
     ]
    },
    {
     "name": "stdout",
     "output_type": "stream",
     "text": [
      "Epoch [201/500] completed, Average Loss: 0.0000\n"
     ]
    },
    {
     "name": "stderr",
     "output_type": "stream",
     "text": [
      "Epoch 202:   0%|          | 9/703761 [00:00<18:14:00, 10.72it/s, lr : 0.0001 ; epoch loss : 2.0148 ; loop error : 0.0]\n"
     ]
    },
    {
     "name": "stdout",
     "output_type": "stream",
     "text": [
      "Epoch [202/500] completed, Average Loss: 0.0000\n"
     ]
    },
    {
     "name": "stderr",
     "output_type": "stream",
     "text": [
      "Epoch 203:   0%|          | 9/703761 [00:00<18:12:08, 10.74it/s, lr : 0.0001 ; epoch loss : 2.0000 ; loop error : 0.0]\n"
     ]
    },
    {
     "name": "stdout",
     "output_type": "stream",
     "text": [
      "Epoch [203/500] completed, Average Loss: 0.0000\n"
     ]
    },
    {
     "name": "stderr",
     "output_type": "stream",
     "text": [
      "Epoch 204:   0%|          | 9/703761 [00:00<18:15:01, 10.71it/s, lr : 0.0001 ; epoch loss : 1.9766 ; loop error : 0.0]\n"
     ]
    },
    {
     "name": "stdout",
     "output_type": "stream",
     "text": [
      "Epoch [204/500] completed, Average Loss: 0.0000\n"
     ]
    },
    {
     "name": "stderr",
     "output_type": "stream",
     "text": [
      "Epoch 205:   0%|          | 9/703761 [00:00<18:00:13, 10.86it/s, lr : 0.0001 ; epoch loss : 1.9805 ; loop error : 0.0]\n"
     ]
    },
    {
     "name": "stdout",
     "output_type": "stream",
     "text": [
      "Epoch [205/500] completed, Average Loss: 0.0000\n"
     ]
    },
    {
     "name": "stderr",
     "output_type": "stream",
     "text": [
      "Epoch 206:   0%|          | 9/703761 [00:00<17:51:21, 10.95it/s, lr : 0.0001 ; epoch loss : 1.9641 ; loop error : 0.0]\n"
     ]
    },
    {
     "name": "stdout",
     "output_type": "stream",
     "text": [
      "Epoch [206/500] completed, Average Loss: 0.0000\n"
     ]
    },
    {
     "name": "stderr",
     "output_type": "stream",
     "text": [
      "Epoch 207:   0%|          | 9/703761 [00:00<19:19:59, 10.11it/s, lr : 0.0001 ; epoch loss : 1.9680 ; loop error : 0.0]\n"
     ]
    },
    {
     "name": "stdout",
     "output_type": "stream",
     "text": [
      "Epoch [207/500] completed, Average Loss: 0.0000\n"
     ]
    },
    {
     "name": "stderr",
     "output_type": "stream",
     "text": [
      "Epoch 208:   0%|          | 9/703761 [00:00<17:32:14, 11.15it/s, lr : 0.0001 ; epoch loss : 1.9633 ; loop error : 0.0]\n"
     ]
    },
    {
     "name": "stdout",
     "output_type": "stream",
     "text": [
      "Epoch [208/500] completed, Average Loss: 0.0000\n"
     ]
    },
    {
     "name": "stderr",
     "output_type": "stream",
     "text": [
      "Epoch 209:   0%|          | 9/703761 [00:00<18:16:09, 10.70it/s, lr : 0.0001 ; epoch loss : 1.9625 ; loop error : 0.0]\n"
     ]
    },
    {
     "name": "stdout",
     "output_type": "stream",
     "text": [
      "Epoch [209/500] completed, Average Loss: 0.0000\n"
     ]
    },
    {
     "name": "stderr",
     "output_type": "stream",
     "text": [
      "Epoch 210:   0%|          | 9/703761 [00:00<18:18:22, 10.68it/s, lr : 0.0001 ; epoch loss : 1.9508 ; loop error : 0.0]\n"
     ]
    },
    {
     "name": "stdout",
     "output_type": "stream",
     "text": [
      "Epoch [210/500] completed, Average Loss: 0.0000\n"
     ]
    },
    {
     "name": "stderr",
     "output_type": "stream",
     "text": [
      "Epoch 211:   0%|          | 9/703761 [00:00<16:43:18, 11.69it/s, lr : 0.0001 ; epoch loss : 1.9594 ; loop error : 0.0]\n"
     ]
    },
    {
     "name": "stdout",
     "output_type": "stream",
     "text": [
      "Epoch [211/500] completed, Average Loss: 0.0000\n"
     ]
    },
    {
     "name": "stderr",
     "output_type": "stream",
     "text": [
      "Epoch 212:   0%|          | 9/703761 [00:00<17:36:31, 11.10it/s, lr : 0.0001 ; epoch loss : 1.9734 ; loop error : 0.0]\n"
     ]
    },
    {
     "name": "stdout",
     "output_type": "stream",
     "text": [
      "Epoch [212/500] completed, Average Loss: 0.0000\n"
     ]
    },
    {
     "name": "stderr",
     "output_type": "stream",
     "text": [
      "Epoch 213:   0%|          | 9/703761 [00:00<18:02:41, 10.83it/s, lr : 0.0001 ; epoch loss : 1.9297 ; loop error : 0.0]\n"
     ]
    },
    {
     "name": "stdout",
     "output_type": "stream",
     "text": [
      "Epoch [213/500] completed, Average Loss: 0.0000\n"
     ]
    },
    {
     "name": "stderr",
     "output_type": "stream",
     "text": [
      "Epoch 214:   0%|          | 9/703761 [00:00<18:26:04, 10.60it/s, lr : 0.0001 ; epoch loss : 1.8898 ; loop error : 0.0]\n"
     ]
    },
    {
     "name": "stdout",
     "output_type": "stream",
     "text": [
      "Epoch [214/500] completed, Average Loss: 0.0000\n"
     ]
    },
    {
     "name": "stderr",
     "output_type": "stream",
     "text": [
      "Epoch 215:   0%|          | 9/703761 [00:00<19:00:35, 10.28it/s, lr : 0.0001 ; epoch loss : 1.8836 ; loop error : 0.0]\n"
     ]
    },
    {
     "name": "stdout",
     "output_type": "stream",
     "text": [
      "Epoch [215/500] completed, Average Loss: 0.0000\n"
     ]
    },
    {
     "name": "stderr",
     "output_type": "stream",
     "text": [
      "Epoch 216:   0%|          | 9/703761 [00:00<17:01:55, 11.48it/s, lr : 0.0001 ; epoch loss : 1.8781 ; loop error : 0.0]\n"
     ]
    },
    {
     "name": "stdout",
     "output_type": "stream",
     "text": [
      "Epoch [216/500] completed, Average Loss: 0.0000\n"
     ]
    },
    {
     "name": "stderr",
     "output_type": "stream",
     "text": [
      "Epoch 217:   0%|          | 9/703761 [00:00<16:57:36, 11.53it/s, lr : 0.0001 ; epoch loss : 1.8766 ; loop error : 0.0]\n"
     ]
    },
    {
     "name": "stdout",
     "output_type": "stream",
     "text": [
      "Epoch [217/500] completed, Average Loss: 0.0000\n"
     ]
    },
    {
     "name": "stderr",
     "output_type": "stream",
     "text": [
      "Epoch 218:   0%|          | 9/703761 [00:00<17:39:08, 11.07it/s, lr : 0.0001 ; epoch loss : 1.8570 ; loop error : 0.0]\n"
     ]
    },
    {
     "name": "stdout",
     "output_type": "stream",
     "text": [
      "Epoch [218/500] completed, Average Loss: 0.0000\n"
     ]
    },
    {
     "name": "stderr",
     "output_type": "stream",
     "text": [
      "Epoch 219:   0%|          | 9/703761 [00:00<16:49:31, 11.62it/s, lr : 0.0001 ; epoch loss : 1.8500 ; loop error : 0.0]\n"
     ]
    },
    {
     "name": "stdout",
     "output_type": "stream",
     "text": [
      "Epoch [219/500] completed, Average Loss: 0.0000\n"
     ]
    },
    {
     "name": "stderr",
     "output_type": "stream",
     "text": [
      "Epoch 220:   0%|          | 9/703761 [00:00<17:56:29, 10.90it/s, lr : 0.0001 ; epoch loss : 1.8398 ; loop error : 0.0]\n"
     ]
    },
    {
     "name": "stdout",
     "output_type": "stream",
     "text": [
      "Epoch [220/500] completed, Average Loss: 0.0000\n"
     ]
    },
    {
     "name": "stderr",
     "output_type": "stream",
     "text": [
      "Epoch 221:   0%|          | 9/703761 [00:00<18:55:05, 10.33it/s, lr : 0.0001 ; epoch loss : 1.8383 ; loop error : 0.0]\n"
     ]
    },
    {
     "name": "stdout",
     "output_type": "stream",
     "text": [
      "Epoch [221/500] completed, Average Loss: 0.0000\n"
     ]
    },
    {
     "name": "stderr",
     "output_type": "stream",
     "text": [
      "Epoch 222:   0%|          | 9/703761 [00:00<18:33:06, 10.54it/s, lr : 0.0001 ; epoch loss : 1.8211 ; loop error : 0.0]\n"
     ]
    },
    {
     "name": "stdout",
     "output_type": "stream",
     "text": [
      "Epoch [222/500] completed, Average Loss: 0.0000\n"
     ]
    },
    {
     "name": "stderr",
     "output_type": "stream",
     "text": [
      "Epoch 223:   0%|          | 9/703761 [00:00<18:29:26, 10.57it/s, lr : 0.0001 ; epoch loss : 1.8000 ; loop error : 0.0]\n"
     ]
    },
    {
     "name": "stdout",
     "output_type": "stream",
     "text": [
      "Epoch [223/500] completed, Average Loss: 0.0000\n"
     ]
    },
    {
     "name": "stderr",
     "output_type": "stream",
     "text": [
      "Epoch 224:   0%|          | 9/703761 [00:00<18:45:02, 10.43it/s, lr : 0.0001 ; epoch loss : 1.7977 ; loop error : 0.0]\n"
     ]
    },
    {
     "name": "stdout",
     "output_type": "stream",
     "text": [
      "Epoch [224/500] completed, Average Loss: 0.0000\n"
     ]
    },
    {
     "name": "stderr",
     "output_type": "stream",
     "text": [
      "Epoch 225:   0%|          | 9/703761 [00:00<18:26:20, 10.60it/s, lr : 0.0001 ; epoch loss : 1.7953 ; loop error : 0.0]\n"
     ]
    },
    {
     "name": "stdout",
     "output_type": "stream",
     "text": [
      "Epoch [225/500] completed, Average Loss: 0.0000\n"
     ]
    },
    {
     "name": "stderr",
     "output_type": "stream",
     "text": [
      "Epoch 226:   0%|          | 9/703761 [00:00<18:24:14, 10.62it/s, lr : 0.0001 ; epoch loss : 1.7945 ; loop error : 0.0]\n"
     ]
    },
    {
     "name": "stdout",
     "output_type": "stream",
     "text": [
      "Epoch [226/500] completed, Average Loss: 0.0000\n"
     ]
    },
    {
     "name": "stderr",
     "output_type": "stream",
     "text": [
      "Epoch 227:   0%|          | 9/703761 [00:00<18:36:54, 10.50it/s, lr : 0.0001 ; epoch loss : 1.7977 ; loop error : 0.0]\n"
     ]
    },
    {
     "name": "stdout",
     "output_type": "stream",
     "text": [
      "Epoch [227/500] completed, Average Loss: 0.0000\n"
     ]
    },
    {
     "name": "stderr",
     "output_type": "stream",
     "text": [
      "Epoch 228:   0%|          | 9/703761 [00:00<18:35:18, 10.52it/s, lr : 0.0001 ; epoch loss : 1.8117 ; loop error : 0.0]\n"
     ]
    },
    {
     "name": "stdout",
     "output_type": "stream",
     "text": [
      "Epoch [228/500] completed, Average Loss: 0.0000\n"
     ]
    },
    {
     "name": "stderr",
     "output_type": "stream",
     "text": [
      "Epoch 229:   0%|          | 9/703761 [00:00<18:51:10, 10.37it/s, lr : 0.0001 ; epoch loss : 1.8148 ; loop error : 0.0]\n"
     ]
    },
    {
     "name": "stdout",
     "output_type": "stream",
     "text": [
      "Epoch [229/500] completed, Average Loss: 0.0000\n"
     ]
    },
    {
     "name": "stderr",
     "output_type": "stream",
     "text": [
      "Epoch 230:   0%|          | 9/703761 [00:00<19:21:51, 10.10it/s, lr : 0.0001 ; epoch loss : 1.7898 ; loop error : 0.0]\n"
     ]
    },
    {
     "name": "stdout",
     "output_type": "stream",
     "text": [
      "Epoch [230/500] completed, Average Loss: 0.0000\n"
     ]
    },
    {
     "name": "stderr",
     "output_type": "stream",
     "text": [
      "Epoch 231:   0%|          | 9/703761 [00:00<18:28:00, 10.59it/s, lr : 0.0001 ; epoch loss : 1.7727 ; loop error : 0.0]\n"
     ]
    },
    {
     "name": "stdout",
     "output_type": "stream",
     "text": [
      "Epoch [231/500] completed, Average Loss: 0.0000\n"
     ]
    },
    {
     "name": "stderr",
     "output_type": "stream",
     "text": [
      "Epoch 232:   0%|          | 9/703761 [00:00<18:59:11, 10.30it/s, lr : 0.0001 ; epoch loss : 1.7789 ; loop error : 0.0]\n"
     ]
    },
    {
     "name": "stdout",
     "output_type": "stream",
     "text": [
      "Epoch [232/500] completed, Average Loss: 0.0000\n"
     ]
    },
    {
     "name": "stderr",
     "output_type": "stream",
     "text": [
      "Epoch 233:   0%|          | 9/703761 [00:00<18:26:06, 10.60it/s, lr : 0.0001 ; epoch loss : 1.7844 ; loop error : 0.0]\n"
     ]
    },
    {
     "name": "stdout",
     "output_type": "stream",
     "text": [
      "Epoch [233/500] completed, Average Loss: 0.0000\n"
     ]
    },
    {
     "name": "stderr",
     "output_type": "stream",
     "text": [
      "Epoch 234:   0%|          | 9/703761 [00:00<19:21:46, 10.10it/s, lr : 0.0001 ; epoch loss : 1.7773 ; loop error : 0.0]\n"
     ]
    },
    {
     "name": "stdout",
     "output_type": "stream",
     "text": [
      "Epoch [234/500] completed, Average Loss: 0.0000\n"
     ]
    },
    {
     "name": "stderr",
     "output_type": "stream",
     "text": [
      "Epoch 235:   0%|          | 9/703761 [00:00<18:51:07, 10.37it/s, lr : 0.0001 ; epoch loss : 1.7617 ; loop error : 0.0]\n"
     ]
    },
    {
     "name": "stdout",
     "output_type": "stream",
     "text": [
      "Epoch [235/500] completed, Average Loss: 0.0000\n"
     ]
    },
    {
     "name": "stderr",
     "output_type": "stream",
     "text": [
      "Epoch 236:   0%|          | 9/703761 [00:00<18:19:56, 10.66it/s, lr : 0.0001 ; epoch loss : 1.7477 ; loop error : 0.0]\n"
     ]
    },
    {
     "name": "stdout",
     "output_type": "stream",
     "text": [
      "Epoch [236/500] completed, Average Loss: 0.0000\n"
     ]
    },
    {
     "name": "stderr",
     "output_type": "stream",
     "text": [
      "Epoch 237:   0%|          | 9/703761 [00:00<18:05:03, 10.81it/s, lr : 0.0001 ; epoch loss : 1.7563 ; loop error : 0.0]\n"
     ]
    },
    {
     "name": "stdout",
     "output_type": "stream",
     "text": [
      "Epoch [237/500] completed, Average Loss: 0.0000\n"
     ]
    },
    {
     "name": "stderr",
     "output_type": "stream",
     "text": [
      "Epoch 238:   0%|          | 9/703761 [00:00<17:30:24, 11.17it/s, lr : 0.0001 ; epoch loss : 1.7641 ; loop error : 0.0]\n"
     ]
    },
    {
     "name": "stdout",
     "output_type": "stream",
     "text": [
      "Epoch [238/500] completed, Average Loss: 0.0000\n"
     ]
    },
    {
     "name": "stderr",
     "output_type": "stream",
     "text": [
      "Epoch 239:   0%|          | 9/703761 [00:00<18:19:59, 10.66it/s, lr : 0.0001 ; epoch loss : 1.7711 ; loop error : 0.0]\n"
     ]
    },
    {
     "name": "stdout",
     "output_type": "stream",
     "text": [
      "Epoch [239/500] completed, Average Loss: 0.0000\n"
     ]
    },
    {
     "name": "stderr",
     "output_type": "stream",
     "text": [
      "Epoch 240:   0%|          | 9/703761 [00:00<17:40:44, 11.06it/s, lr : 0.0001 ; epoch loss : 1.7922 ; loop error : 0.0]\n"
     ]
    },
    {
     "name": "stdout",
     "output_type": "stream",
     "text": [
      "Epoch [240/500] completed, Average Loss: 0.0000\n"
     ]
    },
    {
     "name": "stderr",
     "output_type": "stream",
     "text": [
      "Epoch 241:   0%|          | 9/703761 [00:00<18:13:09, 10.73it/s, lr : 0.0001 ; epoch loss : 1.7695 ; loop error : 0.0]\n"
     ]
    },
    {
     "name": "stdout",
     "output_type": "stream",
     "text": [
      "Epoch [241/500] completed, Average Loss: 0.0000\n"
     ]
    },
    {
     "name": "stderr",
     "output_type": "stream",
     "text": [
      "Epoch 242:   0%|          | 9/703761 [00:00<19:40:15,  9.94it/s, lr : 0.0001 ; epoch loss : 1.7812 ; loop error : 0.0]\n"
     ]
    },
    {
     "name": "stdout",
     "output_type": "stream",
     "text": [
      "Epoch [242/500] completed, Average Loss: 0.0000\n"
     ]
    },
    {
     "name": "stderr",
     "output_type": "stream",
     "text": [
      "Epoch 243:   0%|          | 9/703761 [00:00<19:57:04,  9.80it/s, lr : 0.0001 ; epoch loss : 1.7781 ; loop error : 0.0]\n"
     ]
    },
    {
     "name": "stdout",
     "output_type": "stream",
     "text": [
      "Epoch [243/500] completed, Average Loss: 0.0000\n"
     ]
    },
    {
     "name": "stderr",
     "output_type": "stream",
     "text": [
      "Epoch 244:   0%|          | 9/703761 [00:00<19:56:57,  9.80it/s, lr : 0.0001 ; epoch loss : 1.7711 ; loop error : 0.0]\n"
     ]
    },
    {
     "name": "stdout",
     "output_type": "stream",
     "text": [
      "Epoch [244/500] completed, Average Loss: 0.0000\n"
     ]
    },
    {
     "name": "stderr",
     "output_type": "stream",
     "text": [
      "Epoch 245:   0%|          | 9/703761 [00:00<18:25:58, 10.61it/s, lr : 0.0001 ; epoch loss : 1.7766 ; loop error : 0.0]\n"
     ]
    },
    {
     "name": "stdout",
     "output_type": "stream",
     "text": [
      "Epoch [245/500] completed, Average Loss: 0.0000\n"
     ]
    },
    {
     "name": "stderr",
     "output_type": "stream",
     "text": [
      "Epoch 246:   0%|          | 9/703761 [00:00<17:47:51, 10.98it/s, lr : 0.0001 ; epoch loss : 1.7750 ; loop error : 0.0]\n"
     ]
    },
    {
     "name": "stdout",
     "output_type": "stream",
     "text": [
      "Epoch [246/500] completed, Average Loss: 0.0000\n"
     ]
    },
    {
     "name": "stderr",
     "output_type": "stream",
     "text": [
      "Epoch 247:   0%|          | 9/703761 [00:00<18:29:40, 10.57it/s, lr : 0.0001 ; epoch loss : 1.7477 ; loop error : 0.0]\n"
     ]
    },
    {
     "name": "stdout",
     "output_type": "stream",
     "text": [
      "Epoch [247/500] completed, Average Loss: 0.0000\n"
     ]
    },
    {
     "name": "stderr",
     "output_type": "stream",
     "text": [
      "Epoch 248:   0%|          | 9/703761 [00:00<18:20:04, 10.66it/s, lr : 0.0001 ; epoch loss : 1.7328 ; loop error : 0.0]\n"
     ]
    },
    {
     "name": "stdout",
     "output_type": "stream",
     "text": [
      "Epoch [248/500] completed, Average Loss: 0.0000\n"
     ]
    },
    {
     "name": "stderr",
     "output_type": "stream",
     "text": [
      "Epoch 249:   0%|          | 9/703761 [00:00<17:48:14, 10.98it/s, lr : 0.0001 ; epoch loss : 1.6906 ; loop error : 0.0]\n"
     ]
    },
    {
     "name": "stdout",
     "output_type": "stream",
     "text": [
      "Epoch [249/500] completed, Average Loss: 0.0000\n"
     ]
    },
    {
     "name": "stderr",
     "output_type": "stream",
     "text": [
      "Epoch 250:   0%|          | 9/703761 [00:00<17:51:16, 10.95it/s, lr : 0.0001 ; epoch loss : 1.6562 ; loop error : 0.0]\n"
     ]
    },
    {
     "name": "stdout",
     "output_type": "stream",
     "text": [
      "Epoch [250/500] completed, Average Loss: 0.0000\n"
     ]
    },
    {
     "name": "stderr",
     "output_type": "stream",
     "text": [
      "Epoch 251:   0%|          | 9/703761 [00:00<18:18:12, 10.68it/s, lr : 0.0001 ; epoch loss : 1.6320 ; loop error : 0.0]\n"
     ]
    },
    {
     "name": "stdout",
     "output_type": "stream",
     "text": [
      "Epoch [251/500] completed, Average Loss: 0.0000\n"
     ]
    },
    {
     "name": "stderr",
     "output_type": "stream",
     "text": [
      "Epoch 252:   0%|          | 9/703761 [00:00<18:24:09, 10.62it/s, lr : 0.0001 ; epoch loss : 1.6211 ; loop error : 0.0]\n"
     ]
    },
    {
     "name": "stdout",
     "output_type": "stream",
     "text": [
      "Epoch [252/500] completed, Average Loss: 0.0000\n"
     ]
    },
    {
     "name": "stderr",
     "output_type": "stream",
     "text": [
      "Epoch 253:   0%|          | 9/703761 [00:00<18:23:37, 10.63it/s, lr : 0.0001 ; epoch loss : 1.6164 ; loop error : 0.0]\n"
     ]
    },
    {
     "name": "stdout",
     "output_type": "stream",
     "text": [
      "Epoch [253/500] completed, Average Loss: 0.0000\n"
     ]
    },
    {
     "name": "stderr",
     "output_type": "stream",
     "text": [
      "Epoch 254:   0%|          | 9/703761 [00:00<17:35:24, 11.11it/s, lr : 0.0001 ; epoch loss : 1.6133 ; loop error : 0.0]\n"
     ]
    },
    {
     "name": "stdout",
     "output_type": "stream",
     "text": [
      "Epoch [254/500] completed, Average Loss: 0.0000\n"
     ]
    },
    {
     "name": "stderr",
     "output_type": "stream",
     "text": [
      "Epoch 255:   0%|          | 9/703761 [00:00<17:05:40, 11.44it/s, lr : 0.0001 ; epoch loss : 1.6094 ; loop error : 0.0]\n"
     ]
    },
    {
     "name": "stdout",
     "output_type": "stream",
     "text": [
      "Epoch [255/500] completed, Average Loss: 0.0000\n"
     ]
    },
    {
     "name": "stderr",
     "output_type": "stream",
     "text": [
      "Epoch 256:   0%|          | 9/703761 [00:00<18:19:07, 10.67it/s, lr : 0.0001 ; epoch loss : 1.6070 ; loop error : 0.0]\n"
     ]
    },
    {
     "name": "stdout",
     "output_type": "stream",
     "text": [
      "Epoch [256/500] completed, Average Loss: 0.0000\n"
     ]
    },
    {
     "name": "stderr",
     "output_type": "stream",
     "text": [
      "Epoch 257:   0%|          | 9/703761 [00:00<17:40:24, 11.06it/s, lr : 0.0001 ; epoch loss : 1.6055 ; loop error : 0.0]\n"
     ]
    },
    {
     "name": "stdout",
     "output_type": "stream",
     "text": [
      "Epoch [257/500] completed, Average Loss: 0.0000\n"
     ]
    },
    {
     "name": "stderr",
     "output_type": "stream",
     "text": [
      "Epoch 258:   0%|          | 9/703761 [00:00<18:02:51, 10.83it/s, lr : 0.0001 ; epoch loss : 1.6047 ; loop error : 0.0]\n"
     ]
    },
    {
     "name": "stdout",
     "output_type": "stream",
     "text": [
      "Epoch [258/500] completed, Average Loss: 0.0000\n"
     ]
    },
    {
     "name": "stderr",
     "output_type": "stream",
     "text": [
      "Epoch 259:   0%|          | 9/703761 [00:00<18:00:22, 10.86it/s, lr : 0.0001 ; epoch loss : 1.6023 ; loop error : 0.0]\n"
     ]
    },
    {
     "name": "stdout",
     "output_type": "stream",
     "text": [
      "Epoch [259/500] completed, Average Loss: 0.0000\n"
     ]
    },
    {
     "name": "stderr",
     "output_type": "stream",
     "text": [
      "Epoch 260:   0%|          | 9/703761 [00:00<18:08:06, 10.78it/s, lr : 0.0001 ; epoch loss : 1.6000 ; loop error : 0.0]\n"
     ]
    },
    {
     "name": "stdout",
     "output_type": "stream",
     "text": [
      "Epoch [260/500] completed, Average Loss: 0.0000\n"
     ]
    },
    {
     "name": "stderr",
     "output_type": "stream",
     "text": [
      "Epoch 261:   0%|          | 9/703761 [00:00<18:11:50, 10.74it/s, lr : 0.0001 ; epoch loss : 1.5992 ; loop error : 0.0]\n"
     ]
    },
    {
     "name": "stdout",
     "output_type": "stream",
     "text": [
      "Epoch [261/500] completed, Average Loss: 0.0000\n"
     ]
    },
    {
     "name": "stderr",
     "output_type": "stream",
     "text": [
      "Epoch 262:   0%|          | 9/703761 [00:00<18:20:03, 10.66it/s, lr : 0.0001 ; epoch loss : 1.5977 ; loop error : 0.0]\n"
     ]
    },
    {
     "name": "stdout",
     "output_type": "stream",
     "text": [
      "Epoch [262/500] completed, Average Loss: 0.0000\n"
     ]
    },
    {
     "name": "stderr",
     "output_type": "stream",
     "text": [
      "Epoch 263:   0%|          | 9/703761 [00:00<18:26:22, 10.60it/s, lr : 0.0001 ; epoch loss : 1.5961 ; loop error : 0.0]\n"
     ]
    },
    {
     "name": "stdout",
     "output_type": "stream",
     "text": [
      "Epoch [263/500] completed, Average Loss: 0.0000\n"
     ]
    },
    {
     "name": "stderr",
     "output_type": "stream",
     "text": [
      "Epoch 264:   0%|          | 9/703761 [00:00<19:01:09, 10.28it/s, lr : 0.0001 ; epoch loss : 1.5938 ; loop error : 0.0]\n"
     ]
    },
    {
     "name": "stdout",
     "output_type": "stream",
     "text": [
      "Epoch [264/500] completed, Average Loss: 0.0000\n"
     ]
    },
    {
     "name": "stderr",
     "output_type": "stream",
     "text": [
      "Epoch 265:   0%|          | 9/703761 [00:00<18:53:13, 10.35it/s, lr : 0.0001 ; epoch loss : 1.5922 ; loop error : 0.0]\n"
     ]
    },
    {
     "name": "stdout",
     "output_type": "stream",
     "text": [
      "Epoch [265/500] completed, Average Loss: 0.0000\n"
     ]
    },
    {
     "name": "stderr",
     "output_type": "stream",
     "text": [
      "Epoch 266:   0%|          | 9/703761 [00:00<17:47:03, 10.99it/s, lr : 0.0001 ; epoch loss : 1.5906 ; loop error : 0.0]\n"
     ]
    },
    {
     "name": "stdout",
     "output_type": "stream",
     "text": [
      "Epoch [266/500] completed, Average Loss: 0.0000\n"
     ]
    },
    {
     "name": "stderr",
     "output_type": "stream",
     "text": [
      "Epoch 267:   0%|          | 9/703761 [00:00<18:19:34, 10.67it/s, lr : 0.0001 ; epoch loss : 1.5898 ; loop error : 0.0]\n"
     ]
    },
    {
     "name": "stdout",
     "output_type": "stream",
     "text": [
      "Epoch [267/500] completed, Average Loss: 0.0000\n"
     ]
    },
    {
     "name": "stderr",
     "output_type": "stream",
     "text": [
      "Epoch 268:   0%|          | 9/703761 [00:00<18:39:38, 10.48it/s, lr : 0.0001 ; epoch loss : 1.5898 ; loop error : 0.0]\n"
     ]
    },
    {
     "name": "stdout",
     "output_type": "stream",
     "text": [
      "Epoch [268/500] completed, Average Loss: 0.0000\n"
     ]
    },
    {
     "name": "stderr",
     "output_type": "stream",
     "text": [
      "Epoch 269:   0%|          | 9/703761 [00:00<18:21:22, 10.65it/s, lr : 0.0001 ; epoch loss : 1.5875 ; loop error : 0.0]\n"
     ]
    },
    {
     "name": "stdout",
     "output_type": "stream",
     "text": [
      "Epoch [269/500] completed, Average Loss: 0.0000\n"
     ]
    },
    {
     "name": "stderr",
     "output_type": "stream",
     "text": [
      "Epoch 270:   0%|          | 9/703761 [00:00<18:22:40, 10.64it/s, lr : 0.0001 ; epoch loss : 1.5867 ; loop error : 0.0]\n"
     ]
    },
    {
     "name": "stdout",
     "output_type": "stream",
     "text": [
      "Epoch [270/500] completed, Average Loss: 0.0000\n"
     ]
    },
    {
     "name": "stderr",
     "output_type": "stream",
     "text": [
      "Epoch 271:   0%|          | 9/703761 [00:00<17:56:32, 10.90it/s, lr : 0.0001 ; epoch loss : 1.5844 ; loop error : 0.0]\n"
     ]
    },
    {
     "name": "stdout",
     "output_type": "stream",
     "text": [
      "Epoch [271/500] completed, Average Loss: 0.0000\n"
     ]
    },
    {
     "name": "stderr",
     "output_type": "stream",
     "text": [
      "Epoch 272:   0%|          | 9/703761 [00:00<18:51:24, 10.37it/s, lr : 0.0001 ; epoch loss : 1.5836 ; loop error : 0.0]\n"
     ]
    },
    {
     "name": "stdout",
     "output_type": "stream",
     "text": [
      "Epoch [272/500] completed, Average Loss: 0.0000\n"
     ]
    },
    {
     "name": "stderr",
     "output_type": "stream",
     "text": [
      "Epoch 273:   0%|          | 9/703761 [00:00<18:31:22, 10.55it/s, lr : 0.0001 ; epoch loss : 1.5820 ; loop error : 0.0]\n"
     ]
    },
    {
     "name": "stdout",
     "output_type": "stream",
     "text": [
      "Epoch [273/500] completed, Average Loss: 0.0000\n"
     ]
    },
    {
     "name": "stderr",
     "output_type": "stream",
     "text": [
      "Epoch 274:   0%|          | 9/703761 [00:00<17:44:14, 11.02it/s, lr : 0.0001 ; epoch loss : 1.5820 ; loop error : 0.0]\n"
     ]
    },
    {
     "name": "stdout",
     "output_type": "stream",
     "text": [
      "Epoch [274/500] completed, Average Loss: 0.0000\n"
     ]
    },
    {
     "name": "stderr",
     "output_type": "stream",
     "text": [
      "Epoch 275:   0%|          | 9/703761 [00:00<17:13:44, 11.35it/s, lr : 0.0001 ; epoch loss : 1.5813 ; loop error : 0.0]\n"
     ]
    },
    {
     "name": "stdout",
     "output_type": "stream",
     "text": [
      "Epoch [275/500] completed, Average Loss: 0.0000\n"
     ]
    },
    {
     "name": "stderr",
     "output_type": "stream",
     "text": [
      "Epoch 276:   0%|          | 9/703761 [00:00<18:08:09, 10.78it/s, lr : 0.0001 ; epoch loss : 1.5781 ; loop error : 0.0]\n"
     ]
    },
    {
     "name": "stdout",
     "output_type": "stream",
     "text": [
      "Epoch [276/500] completed, Average Loss: 0.0000\n"
     ]
    },
    {
     "name": "stderr",
     "output_type": "stream",
     "text": [
      "Epoch 277:   0%|          | 9/703761 [00:00<17:36:15, 11.10it/s, lr : 0.0001 ; epoch loss : 1.5773 ; loop error : 0.0]\n"
     ]
    },
    {
     "name": "stdout",
     "output_type": "stream",
     "text": [
      "Epoch [277/500] completed, Average Loss: 0.0000\n"
     ]
    },
    {
     "name": "stderr",
     "output_type": "stream",
     "text": [
      "Epoch 278:   0%|          | 9/703761 [00:00<19:14:05, 10.16it/s, lr : 0.0001 ; epoch loss : 1.5766 ; loop error : 0.0]\n"
     ]
    },
    {
     "name": "stdout",
     "output_type": "stream",
     "text": [
      "Epoch [278/500] completed, Average Loss: 0.0000\n"
     ]
    },
    {
     "name": "stderr",
     "output_type": "stream",
     "text": [
      "Epoch 279:   0%|          | 9/703761 [00:00<19:01:13, 10.28it/s, lr : 0.0001 ; epoch loss : 1.5766 ; loop error : 0.0]\n"
     ]
    },
    {
     "name": "stdout",
     "output_type": "stream",
     "text": [
      "Epoch [279/500] completed, Average Loss: 0.0000\n"
     ]
    },
    {
     "name": "stderr",
     "output_type": "stream",
     "text": [
      "Epoch 280:   0%|          | 9/703761 [00:00<19:44:34,  9.90it/s, lr : 0.0001 ; epoch loss : 1.5750 ; loop error : 0.0]\n"
     ]
    },
    {
     "name": "stdout",
     "output_type": "stream",
     "text": [
      "Epoch [280/500] completed, Average Loss: 0.0000\n"
     ]
    },
    {
     "name": "stderr",
     "output_type": "stream",
     "text": [
      "Epoch 281:   0%|          | 9/703761 [00:00<18:19:43, 10.67it/s, lr : 0.0001 ; epoch loss : 1.5750 ; loop error : 0.0]\n"
     ]
    },
    {
     "name": "stdout",
     "output_type": "stream",
     "text": [
      "Epoch [281/500] completed, Average Loss: 0.0000\n"
     ]
    },
    {
     "name": "stderr",
     "output_type": "stream",
     "text": [
      "Epoch 282:   0%|          | 9/703761 [00:00<18:47:09, 10.41it/s, lr : 0.0001 ; epoch loss : 1.5750 ; loop error : 0.0]\n"
     ]
    },
    {
     "name": "stdout",
     "output_type": "stream",
     "text": [
      "Epoch [282/500] completed, Average Loss: 0.0000\n"
     ]
    },
    {
     "name": "stderr",
     "output_type": "stream",
     "text": [
      "Epoch 283:   0%|          | 9/703761 [00:00<18:38:07, 10.49it/s, lr : 0.0001 ; epoch loss : 1.5734 ; loop error : 0.0]\n"
     ]
    },
    {
     "name": "stdout",
     "output_type": "stream",
     "text": [
      "Epoch [283/500] completed, Average Loss: 0.0000\n"
     ]
    },
    {
     "name": "stderr",
     "output_type": "stream",
     "text": [
      "Epoch 284:   0%|          | 9/703761 [00:00<17:58:41, 10.87it/s, lr : 0.0001 ; epoch loss : 1.5711 ; loop error : 0.0]\n"
     ]
    },
    {
     "name": "stdout",
     "output_type": "stream",
     "text": [
      "Epoch [284/500] completed, Average Loss: 0.0000\n"
     ]
    },
    {
     "name": "stderr",
     "output_type": "stream",
     "text": [
      "Epoch 285:   0%|          | 9/703761 [00:00<19:57:02,  9.80it/s, lr : 0.0001 ; epoch loss : 1.5703 ; loop error : 0.0]\n"
     ]
    },
    {
     "name": "stdout",
     "output_type": "stream",
     "text": [
      "Epoch [285/500] completed, Average Loss: 0.0000\n"
     ]
    },
    {
     "name": "stderr",
     "output_type": "stream",
     "text": [
      "Epoch 286:   0%|          | 9/703761 [00:00<17:53:07, 10.93it/s, lr : 0.0001 ; epoch loss : 1.5688 ; loop error : 0.0]\n"
     ]
    },
    {
     "name": "stdout",
     "output_type": "stream",
     "text": [
      "Epoch [286/500] completed, Average Loss: 0.0000\n"
     ]
    },
    {
     "name": "stderr",
     "output_type": "stream",
     "text": [
      "Epoch 287:   0%|          | 9/703761 [00:00<18:32:17, 10.55it/s, lr : 0.0001 ; epoch loss : 1.5680 ; loop error : 0.0]\n"
     ]
    },
    {
     "name": "stdout",
     "output_type": "stream",
     "text": [
      "Epoch [287/500] completed, Average Loss: 0.0000\n"
     ]
    },
    {
     "name": "stderr",
     "output_type": "stream",
     "text": [
      "Epoch 288:   0%|          | 9/703761 [00:00<19:24:16, 10.07it/s, lr : 0.0001 ; epoch loss : 1.5680 ; loop error : 0.0]\n"
     ]
    },
    {
     "name": "stdout",
     "output_type": "stream",
     "text": [
      "Epoch [288/500] completed, Average Loss: 0.0000\n"
     ]
    },
    {
     "name": "stderr",
     "output_type": "stream",
     "text": [
      "Epoch 289:   0%|          | 9/703761 [00:00<17:56:52, 10.89it/s, lr : 0.0001 ; epoch loss : 1.5680 ; loop error : 0.0]\n"
     ]
    },
    {
     "name": "stdout",
     "output_type": "stream",
     "text": [
      "Epoch [289/500] completed, Average Loss: 0.0000\n"
     ]
    },
    {
     "name": "stderr",
     "output_type": "stream",
     "text": [
      "Epoch 290:   0%|          | 9/703761 [00:00<17:57:13, 10.89it/s, lr : 0.0001 ; epoch loss : 1.5672 ; loop error : 0.0]\n"
     ]
    },
    {
     "name": "stdout",
     "output_type": "stream",
     "text": [
      "Epoch [290/500] completed, Average Loss: 0.0000\n"
     ]
    },
    {
     "name": "stderr",
     "output_type": "stream",
     "text": [
      "Epoch 291:   0%|          | 9/703761 [00:00<18:38:31, 10.49it/s, lr : 0.0001 ; epoch loss : 1.5664 ; loop error : 0.0]\n"
     ]
    },
    {
     "name": "stdout",
     "output_type": "stream",
     "text": [
      "Epoch [291/500] completed, Average Loss: 0.0000\n"
     ]
    },
    {
     "name": "stderr",
     "output_type": "stream",
     "text": [
      "Epoch 292:   0%|          | 9/703761 [00:00<18:32:44, 10.54it/s, lr : 0.0001 ; epoch loss : 1.5641 ; loop error : 0.0]\n"
     ]
    },
    {
     "name": "stdout",
     "output_type": "stream",
     "text": [
      "Epoch [292/500] completed, Average Loss: 0.0000\n"
     ]
    },
    {
     "name": "stderr",
     "output_type": "stream",
     "text": [
      "Epoch 293:   0%|          | 9/703761 [00:00<19:50:18,  9.85it/s, lr : 0.0001 ; epoch loss : 1.5633 ; loop error : 0.0]\n"
     ]
    },
    {
     "name": "stdout",
     "output_type": "stream",
     "text": [
      "Epoch [293/500] completed, Average Loss: 0.0000\n"
     ]
    },
    {
     "name": "stderr",
     "output_type": "stream",
     "text": [
      "Epoch 294:   0%|          | 9/703761 [00:00<19:09:21, 10.21it/s, lr : 0.0001 ; epoch loss : 1.5625 ; loop error : 0.0]\n"
     ]
    },
    {
     "name": "stdout",
     "output_type": "stream",
     "text": [
      "Epoch [294/500] completed, Average Loss: 0.0000\n"
     ]
    },
    {
     "name": "stderr",
     "output_type": "stream",
     "text": [
      "Epoch 295:   0%|          | 9/703761 [00:00<16:46:07, 11.66it/s, lr : 0.0001 ; epoch loss : 1.5052 ; loop error : 0.0]\n"
     ]
    },
    {
     "ename": "KeyboardInterrupt",
     "evalue": "",
     "output_type": "error",
     "traceback": [
      "\u001b[0;31m---------------------------------------------------------------------------\u001b[0m",
      "\u001b[0;31mKeyboardInterrupt\u001b[0m                         Traceback (most recent call last)",
      "Cell \u001b[0;32mIn[26], line 14\u001b[0m\n\u001b[1;32m     12\u001b[0m \u001b[38;5;28;01mfor\u001b[39;00m step, raw_batch \u001b[38;5;129;01min\u001b[39;00m \u001b[38;5;28menumerate\u001b[39m(progress_bar, start\u001b[38;5;241m=\u001b[39m\u001b[38;5;241m1\u001b[39m):\n\u001b[1;32m     13\u001b[0m     \u001b[38;5;28;01mtry\u001b[39;00m:\n\u001b[0;32m---> 14\u001b[0m         training_batch \u001b[38;5;241m=\u001b[39m \u001b[43mprocessor\u001b[49m\u001b[38;5;241;43m.\u001b[39;49m\u001b[43mmake_batch\u001b[49m\u001b[43m(\u001b[49m\u001b[43mraw_batch\u001b[49m\u001b[43m,\u001b[49m\u001b[43m \u001b[49m\u001b[43mdtype\u001b[49m\u001b[43m)\u001b[49m        \u001b[38;5;66;03m# Converts batch to `TrainingBatch` format\u001b[39;00m\n\u001b[1;32m     15\u001b[0m         input_ids \u001b[38;5;241m=\u001b[39m training_batch\u001b[38;5;241m.\u001b[39minput_ids\u001b[38;5;241m.\u001b[39mto(DEVICE)            \u001b[38;5;66;03m# Encoder input (source sentence)\u001b[39;00m\n\u001b[1;32m     16\u001b[0m         target_ids \u001b[38;5;241m=\u001b[39m training_batch\u001b[38;5;241m.\u001b[39moutput_ids\u001b[38;5;241m.\u001b[39mto(DEVICE)          \u001b[38;5;66;03m# Decoder target sequence\u001b[39;00m\n",
      "Cell \u001b[0;32mIn[14], line 32\u001b[0m, in \u001b[0;36mProcessor.make_batch\u001b[0;34m(self, paired_sentences, dtype)\u001b[0m\n\u001b[1;32m     29\u001b[0m \u001b[38;5;28;01mdef\u001b[39;00m\u001b[38;5;250m \u001b[39m\u001b[38;5;21mmake_batch\u001b[39m(\u001b[38;5;28mself\u001b[39m, paired_sentences: ListPairedSentences, dtype\u001b[38;5;241m=\u001b[39mtorch\u001b[38;5;241m.\u001b[39mfloat32) \u001b[38;5;241m-\u001b[39m\u001b[38;5;241m>\u001b[39m TrainingBatch:\n\u001b[1;32m     30\u001b[0m     \u001b[38;5;66;03m# Tokenize each sentence in the 'fr' and 'en' lists\u001b[39;00m\n\u001b[1;32m     31\u001b[0m     fr_sentences \u001b[38;5;241m=\u001b[39m [\u001b[38;5;28mself\u001b[39m\u001b[38;5;241m.\u001b[39mtokenize(sentence) \u001b[38;5;28;01mfor\u001b[39;00m sentence \u001b[38;5;129;01min\u001b[39;00m paired_sentences\u001b[38;5;241m.\u001b[39mfr]\n\u001b[0;32m---> 32\u001b[0m     en_sentences \u001b[38;5;241m=\u001b[39m \u001b[43m[\u001b[49m\u001b[38;5;28;43mself\u001b[39;49m\u001b[38;5;241;43m.\u001b[39;49m\u001b[43mtokenize\u001b[49m\u001b[43m(\u001b[49m\u001b[43msentence\u001b[49m\u001b[43m,\u001b[49m\u001b[43m \u001b[49m\u001b[43mextra\u001b[49m\u001b[38;5;241;43m=\u001b[39;49m\u001b[38;5;241;43m1\u001b[39;49m\u001b[43m)\u001b[49m\u001b[43m \u001b[49m\u001b[38;5;28;43;01mfor\u001b[39;49;00m\u001b[43m \u001b[49m\u001b[43msentence\u001b[49m\u001b[43m \u001b[49m\u001b[38;5;129;43;01min\u001b[39;49;00m\u001b[43m \u001b[49m\u001b[43mpaired_sentences\u001b[49m\u001b[38;5;241;43m.\u001b[39;49m\u001b[43men\u001b[49m\u001b[43m]\u001b[49m\n\u001b[1;32m     34\u001b[0m     \u001b[38;5;66;03m# Stack tokenized tensors for batching\u001b[39;00m\n\u001b[1;32m     35\u001b[0m     X_batch \u001b[38;5;241m=\u001b[39m torch\u001b[38;5;241m.\u001b[39mstack([x[\u001b[38;5;124m'\u001b[39m\u001b[38;5;124minput_ids\u001b[39m\u001b[38;5;124m'\u001b[39m]\u001b[38;5;241m.\u001b[39msqueeze(\u001b[38;5;241m0\u001b[39m) \u001b[38;5;28;01mfor\u001b[39;00m x \u001b[38;5;129;01min\u001b[39;00m fr_sentences])\n",
      "Cell \u001b[0;32mIn[14], line 32\u001b[0m, in \u001b[0;36m<listcomp>\u001b[0;34m(.0)\u001b[0m\n\u001b[1;32m     29\u001b[0m \u001b[38;5;28;01mdef\u001b[39;00m\u001b[38;5;250m \u001b[39m\u001b[38;5;21mmake_batch\u001b[39m(\u001b[38;5;28mself\u001b[39m, paired_sentences: ListPairedSentences, dtype\u001b[38;5;241m=\u001b[39mtorch\u001b[38;5;241m.\u001b[39mfloat32) \u001b[38;5;241m-\u001b[39m\u001b[38;5;241m>\u001b[39m TrainingBatch:\n\u001b[1;32m     30\u001b[0m     \u001b[38;5;66;03m# Tokenize each sentence in the 'fr' and 'en' lists\u001b[39;00m\n\u001b[1;32m     31\u001b[0m     fr_sentences \u001b[38;5;241m=\u001b[39m [\u001b[38;5;28mself\u001b[39m\u001b[38;5;241m.\u001b[39mtokenize(sentence) \u001b[38;5;28;01mfor\u001b[39;00m sentence \u001b[38;5;129;01min\u001b[39;00m paired_sentences\u001b[38;5;241m.\u001b[39mfr]\n\u001b[0;32m---> 32\u001b[0m     en_sentences \u001b[38;5;241m=\u001b[39m [\u001b[38;5;28;43mself\u001b[39;49m\u001b[38;5;241;43m.\u001b[39;49m\u001b[43mtokenize\u001b[49m\u001b[43m(\u001b[49m\u001b[43msentence\u001b[49m\u001b[43m,\u001b[49m\u001b[43m \u001b[49m\u001b[43mextra\u001b[49m\u001b[38;5;241;43m=\u001b[39;49m\u001b[38;5;241;43m1\u001b[39;49m\u001b[43m)\u001b[49m \u001b[38;5;28;01mfor\u001b[39;00m sentence \u001b[38;5;129;01min\u001b[39;00m paired_sentences\u001b[38;5;241m.\u001b[39men]\n\u001b[1;32m     34\u001b[0m     \u001b[38;5;66;03m# Stack tokenized tensors for batching\u001b[39;00m\n\u001b[1;32m     35\u001b[0m     X_batch \u001b[38;5;241m=\u001b[39m torch\u001b[38;5;241m.\u001b[39mstack([x[\u001b[38;5;124m'\u001b[39m\u001b[38;5;124minput_ids\u001b[39m\u001b[38;5;124m'\u001b[39m]\u001b[38;5;241m.\u001b[39msqueeze(\u001b[38;5;241m0\u001b[39m) \u001b[38;5;28;01mfor\u001b[39;00m x \u001b[38;5;129;01min\u001b[39;00m fr_sentences])\n",
      "Cell \u001b[0;32mIn[14], line 19\u001b[0m, in \u001b[0;36mProcessor.tokenize\u001b[0;34m(self, text, padding, truncation, extra)\u001b[0m\n\u001b[1;32m     18\u001b[0m \u001b[38;5;28;01mdef\u001b[39;00m\u001b[38;5;250m \u001b[39m\u001b[38;5;21mtokenize\u001b[39m(\u001b[38;5;28mself\u001b[39m, text: \u001b[38;5;28mstr\u001b[39m, padding: \u001b[38;5;28mstr\u001b[39m\u001b[38;5;241m=\u001b[39m\u001b[38;5;124m\"\u001b[39m\u001b[38;5;124mmax_length\u001b[39m\u001b[38;5;124m\"\u001b[39m, truncation:\u001b[38;5;28mbool\u001b[39m\u001b[38;5;241m=\u001b[39m\u001b[38;5;28;01mTrue\u001b[39;00m, extra: \u001b[38;5;28mint\u001b[39m \u001b[38;5;241m=\u001b[39m \u001b[38;5;241m0\u001b[39m):\n\u001b[0;32m---> 19\u001b[0m     \u001b[38;5;28;01mreturn\u001b[39;00m \u001b[38;5;28;43mself\u001b[39;49m\u001b[38;5;241;43m.\u001b[39;49m\u001b[43m_tokenizer\u001b[49m\u001b[43m(\u001b[49m\n\u001b[1;32m     20\u001b[0m \u001b[43m        \u001b[49m\u001b[43mtext\u001b[49m\u001b[43m,\u001b[49m\n\u001b[1;32m     21\u001b[0m \u001b[43m        \u001b[49m\u001b[43mreturn_tensors\u001b[49m\u001b[38;5;241;43m=\u001b[39;49m\u001b[38;5;124;43m\"\u001b[39;49m\u001b[38;5;124;43mpt\u001b[39;49m\u001b[38;5;124;43m\"\u001b[39;49m\u001b[43m,\u001b[49m\n\u001b[1;32m     22\u001b[0m \u001b[43m        \u001b[49m\u001b[43mmax_length\u001b[49m\u001b[38;5;241;43m=\u001b[39;49m\u001b[38;5;28;43mself\u001b[39;49m\u001b[38;5;241;43m.\u001b[39;49m\u001b[43m_seq_length\u001b[49m\u001b[43m \u001b[49m\u001b[38;5;241;43m+\u001b[39;49m\u001b[43m \u001b[49m\u001b[43mextra\u001b[49m\u001b[43m,\u001b[49m\n\u001b[1;32m     23\u001b[0m \u001b[43m        \u001b[49m\u001b[43mpadding\u001b[49m\u001b[38;5;241;43m=\u001b[39;49m\u001b[43mpadding\u001b[49m\u001b[43m,\u001b[49m\n\u001b[1;32m     24\u001b[0m \u001b[43m        \u001b[49m\u001b[43mtruncation\u001b[49m\u001b[38;5;241;43m=\u001b[39;49m\u001b[43mtruncation\u001b[49m\u001b[43m)\u001b[49m\n",
      "File \u001b[0;32m/opt/conda/lib/python3.11/site-packages/transformers/tokenization_utils_base.py:2910\u001b[0m, in \u001b[0;36mPreTrainedTokenizerBase.__call__\u001b[0;34m(self, text, text_pair, text_target, text_pair_target, add_special_tokens, padding, truncation, max_length, stride, is_split_into_words, pad_to_multiple_of, padding_side, return_tensors, return_token_type_ids, return_attention_mask, return_overflowing_tokens, return_special_tokens_mask, return_offsets_mapping, return_length, verbose, **kwargs)\u001b[0m\n\u001b[1;32m   2908\u001b[0m     \u001b[38;5;28;01mif\u001b[39;00m \u001b[38;5;129;01mnot\u001b[39;00m \u001b[38;5;28mself\u001b[39m\u001b[38;5;241m.\u001b[39m_in_target_context_manager:\n\u001b[1;32m   2909\u001b[0m         \u001b[38;5;28mself\u001b[39m\u001b[38;5;241m.\u001b[39m_switch_to_input_mode()\n\u001b[0;32m-> 2910\u001b[0m     encodings \u001b[38;5;241m=\u001b[39m \u001b[38;5;28;43mself\u001b[39;49m\u001b[38;5;241;43m.\u001b[39;49m\u001b[43m_call_one\u001b[49m\u001b[43m(\u001b[49m\u001b[43mtext\u001b[49m\u001b[38;5;241;43m=\u001b[39;49m\u001b[43mtext\u001b[49m\u001b[43m,\u001b[49m\u001b[43m \u001b[49m\u001b[43mtext_pair\u001b[49m\u001b[38;5;241;43m=\u001b[39;49m\u001b[43mtext_pair\u001b[49m\u001b[43m,\u001b[49m\u001b[43m \u001b[49m\u001b[38;5;241;43m*\u001b[39;49m\u001b[38;5;241;43m*\u001b[39;49m\u001b[43mall_kwargs\u001b[49m\u001b[43m)\u001b[49m\n\u001b[1;32m   2911\u001b[0m \u001b[38;5;28;01mif\u001b[39;00m text_target \u001b[38;5;129;01mis\u001b[39;00m \u001b[38;5;129;01mnot\u001b[39;00m \u001b[38;5;28;01mNone\u001b[39;00m:\n\u001b[1;32m   2912\u001b[0m     \u001b[38;5;28mself\u001b[39m\u001b[38;5;241m.\u001b[39m_switch_to_target_mode()\n",
      "File \u001b[0;32m/opt/conda/lib/python3.11/site-packages/transformers/tokenization_utils_base.py:3020\u001b[0m, in \u001b[0;36mPreTrainedTokenizerBase._call_one\u001b[0;34m(self, text, text_pair, add_special_tokens, padding, truncation, max_length, stride, is_split_into_words, pad_to_multiple_of, padding_side, return_tensors, return_token_type_ids, return_attention_mask, return_overflowing_tokens, return_special_tokens_mask, return_offsets_mapping, return_length, verbose, split_special_tokens, **kwargs)\u001b[0m\n\u001b[1;32m   2998\u001b[0m     \u001b[38;5;28;01mreturn\u001b[39;00m \u001b[38;5;28mself\u001b[39m\u001b[38;5;241m.\u001b[39mbatch_encode_plus(\n\u001b[1;32m   2999\u001b[0m         batch_text_or_text_pairs\u001b[38;5;241m=\u001b[39mbatch_text_or_text_pairs,\n\u001b[1;32m   3000\u001b[0m         add_special_tokens\u001b[38;5;241m=\u001b[39madd_special_tokens,\n\u001b[0;32m   (...)\u001b[0m\n\u001b[1;32m   3017\u001b[0m         \u001b[38;5;241m*\u001b[39m\u001b[38;5;241m*\u001b[39mkwargs,\n\u001b[1;32m   3018\u001b[0m     )\n\u001b[1;32m   3019\u001b[0m \u001b[38;5;28;01melse\u001b[39;00m:\n\u001b[0;32m-> 3020\u001b[0m     \u001b[38;5;28;01mreturn\u001b[39;00m \u001b[38;5;28;43mself\u001b[39;49m\u001b[38;5;241;43m.\u001b[39;49m\u001b[43mencode_plus\u001b[49m\u001b[43m(\u001b[49m\n\u001b[1;32m   3021\u001b[0m \u001b[43m        \u001b[49m\u001b[43mtext\u001b[49m\u001b[38;5;241;43m=\u001b[39;49m\u001b[43mtext\u001b[49m\u001b[43m,\u001b[49m\n\u001b[1;32m   3022\u001b[0m \u001b[43m        \u001b[49m\u001b[43mtext_pair\u001b[49m\u001b[38;5;241;43m=\u001b[39;49m\u001b[43mtext_pair\u001b[49m\u001b[43m,\u001b[49m\n\u001b[1;32m   3023\u001b[0m \u001b[43m        \u001b[49m\u001b[43madd_special_tokens\u001b[49m\u001b[38;5;241;43m=\u001b[39;49m\u001b[43madd_special_tokens\u001b[49m\u001b[43m,\u001b[49m\n\u001b[1;32m   3024\u001b[0m \u001b[43m        \u001b[49m\u001b[43mpadding\u001b[49m\u001b[38;5;241;43m=\u001b[39;49m\u001b[43mpadding\u001b[49m\u001b[43m,\u001b[49m\n\u001b[1;32m   3025\u001b[0m \u001b[43m        \u001b[49m\u001b[43mtruncation\u001b[49m\u001b[38;5;241;43m=\u001b[39;49m\u001b[43mtruncation\u001b[49m\u001b[43m,\u001b[49m\n\u001b[1;32m   3026\u001b[0m \u001b[43m        \u001b[49m\u001b[43mmax_length\u001b[49m\u001b[38;5;241;43m=\u001b[39;49m\u001b[43mmax_length\u001b[49m\u001b[43m,\u001b[49m\n\u001b[1;32m   3027\u001b[0m \u001b[43m        \u001b[49m\u001b[43mstride\u001b[49m\u001b[38;5;241;43m=\u001b[39;49m\u001b[43mstride\u001b[49m\u001b[43m,\u001b[49m\n\u001b[1;32m   3028\u001b[0m \u001b[43m        \u001b[49m\u001b[43mis_split_into_words\u001b[49m\u001b[38;5;241;43m=\u001b[39;49m\u001b[43mis_split_into_words\u001b[49m\u001b[43m,\u001b[49m\n\u001b[1;32m   3029\u001b[0m \u001b[43m        \u001b[49m\u001b[43mpad_to_multiple_of\u001b[49m\u001b[38;5;241;43m=\u001b[39;49m\u001b[43mpad_to_multiple_of\u001b[49m\u001b[43m,\u001b[49m\n\u001b[1;32m   3030\u001b[0m \u001b[43m        \u001b[49m\u001b[43mpadding_side\u001b[49m\u001b[38;5;241;43m=\u001b[39;49m\u001b[43mpadding_side\u001b[49m\u001b[43m,\u001b[49m\n\u001b[1;32m   3031\u001b[0m \u001b[43m        \u001b[49m\u001b[43mreturn_tensors\u001b[49m\u001b[38;5;241;43m=\u001b[39;49m\u001b[43mreturn_tensors\u001b[49m\u001b[43m,\u001b[49m\n\u001b[1;32m   3032\u001b[0m \u001b[43m        \u001b[49m\u001b[43mreturn_token_type_ids\u001b[49m\u001b[38;5;241;43m=\u001b[39;49m\u001b[43mreturn_token_type_ids\u001b[49m\u001b[43m,\u001b[49m\n\u001b[1;32m   3033\u001b[0m \u001b[43m        \u001b[49m\u001b[43mreturn_attention_mask\u001b[49m\u001b[38;5;241;43m=\u001b[39;49m\u001b[43mreturn_attention_mask\u001b[49m\u001b[43m,\u001b[49m\n\u001b[1;32m   3034\u001b[0m \u001b[43m        \u001b[49m\u001b[43mreturn_overflowing_tokens\u001b[49m\u001b[38;5;241;43m=\u001b[39;49m\u001b[43mreturn_overflowing_tokens\u001b[49m\u001b[43m,\u001b[49m\n\u001b[1;32m   3035\u001b[0m \u001b[43m        \u001b[49m\u001b[43mreturn_special_tokens_mask\u001b[49m\u001b[38;5;241;43m=\u001b[39;49m\u001b[43mreturn_special_tokens_mask\u001b[49m\u001b[43m,\u001b[49m\n\u001b[1;32m   3036\u001b[0m \u001b[43m        \u001b[49m\u001b[43mreturn_offsets_mapping\u001b[49m\u001b[38;5;241;43m=\u001b[39;49m\u001b[43mreturn_offsets_mapping\u001b[49m\u001b[43m,\u001b[49m\n\u001b[1;32m   3037\u001b[0m \u001b[43m        \u001b[49m\u001b[43mreturn_length\u001b[49m\u001b[38;5;241;43m=\u001b[39;49m\u001b[43mreturn_length\u001b[49m\u001b[43m,\u001b[49m\n\u001b[1;32m   3038\u001b[0m \u001b[43m        \u001b[49m\u001b[43mverbose\u001b[49m\u001b[38;5;241;43m=\u001b[39;49m\u001b[43mverbose\u001b[49m\u001b[43m,\u001b[49m\n\u001b[1;32m   3039\u001b[0m \u001b[43m        \u001b[49m\u001b[43msplit_special_tokens\u001b[49m\u001b[38;5;241;43m=\u001b[39;49m\u001b[43msplit_special_tokens\u001b[49m\u001b[43m,\u001b[49m\n\u001b[1;32m   3040\u001b[0m \u001b[43m        \u001b[49m\u001b[38;5;241;43m*\u001b[39;49m\u001b[38;5;241;43m*\u001b[39;49m\u001b[43mkwargs\u001b[49m\u001b[43m,\u001b[49m\n\u001b[1;32m   3041\u001b[0m \u001b[43m    \u001b[49m\u001b[43m)\u001b[49m\n",
      "File \u001b[0;32m/opt/conda/lib/python3.11/site-packages/transformers/tokenization_utils_base.py:3095\u001b[0m, in \u001b[0;36mPreTrainedTokenizerBase.encode_plus\u001b[0;34m(self, text, text_pair, add_special_tokens, padding, truncation, max_length, stride, is_split_into_words, pad_to_multiple_of, padding_side, return_tensors, return_token_type_ids, return_attention_mask, return_overflowing_tokens, return_special_tokens_mask, return_offsets_mapping, return_length, verbose, **kwargs)\u001b[0m\n\u001b[1;32m   3066\u001b[0m \u001b[38;5;250m\u001b[39m\u001b[38;5;124;03m\"\"\"\u001b[39;00m\n\u001b[1;32m   3067\u001b[0m \u001b[38;5;124;03mTokenize and prepare for the model a sequence or a pair of sequences.\u001b[39;00m\n\u001b[1;32m   3068\u001b[0m \n\u001b[0;32m   (...)\u001b[0m\n\u001b[1;32m   3083\u001b[0m \u001b[38;5;124;03m        method).\u001b[39;00m\n\u001b[1;32m   3084\u001b[0m \u001b[38;5;124;03m\"\"\"\u001b[39;00m\n\u001b[1;32m   3086\u001b[0m padding_strategy, truncation_strategy, max_length, kwargs \u001b[38;5;241m=\u001b[39m \u001b[38;5;28mself\u001b[39m\u001b[38;5;241m.\u001b[39m_get_padding_truncation_strategies(\n\u001b[1;32m   3087\u001b[0m     padding\u001b[38;5;241m=\u001b[39mpadding,\n\u001b[1;32m   3088\u001b[0m     truncation\u001b[38;5;241m=\u001b[39mtruncation,\n\u001b[0;32m   (...)\u001b[0m\n\u001b[1;32m   3092\u001b[0m     \u001b[38;5;241m*\u001b[39m\u001b[38;5;241m*\u001b[39mkwargs,\n\u001b[1;32m   3093\u001b[0m )\n\u001b[0;32m-> 3095\u001b[0m \u001b[38;5;28;01mreturn\u001b[39;00m \u001b[38;5;28;43mself\u001b[39;49m\u001b[38;5;241;43m.\u001b[39;49m\u001b[43m_encode_plus\u001b[49m\u001b[43m(\u001b[49m\n\u001b[1;32m   3096\u001b[0m \u001b[43m    \u001b[49m\u001b[43mtext\u001b[49m\u001b[38;5;241;43m=\u001b[39;49m\u001b[43mtext\u001b[49m\u001b[43m,\u001b[49m\n\u001b[1;32m   3097\u001b[0m \u001b[43m    \u001b[49m\u001b[43mtext_pair\u001b[49m\u001b[38;5;241;43m=\u001b[39;49m\u001b[43mtext_pair\u001b[49m\u001b[43m,\u001b[49m\n\u001b[1;32m   3098\u001b[0m \u001b[43m    \u001b[49m\u001b[43madd_special_tokens\u001b[49m\u001b[38;5;241;43m=\u001b[39;49m\u001b[43madd_special_tokens\u001b[49m\u001b[43m,\u001b[49m\n\u001b[1;32m   3099\u001b[0m \u001b[43m    \u001b[49m\u001b[43mpadding_strategy\u001b[49m\u001b[38;5;241;43m=\u001b[39;49m\u001b[43mpadding_strategy\u001b[49m\u001b[43m,\u001b[49m\n\u001b[1;32m   3100\u001b[0m \u001b[43m    \u001b[49m\u001b[43mtruncation_strategy\u001b[49m\u001b[38;5;241;43m=\u001b[39;49m\u001b[43mtruncation_strategy\u001b[49m\u001b[43m,\u001b[49m\n\u001b[1;32m   3101\u001b[0m \u001b[43m    \u001b[49m\u001b[43mmax_length\u001b[49m\u001b[38;5;241;43m=\u001b[39;49m\u001b[43mmax_length\u001b[49m\u001b[43m,\u001b[49m\n\u001b[1;32m   3102\u001b[0m \u001b[43m    \u001b[49m\u001b[43mstride\u001b[49m\u001b[38;5;241;43m=\u001b[39;49m\u001b[43mstride\u001b[49m\u001b[43m,\u001b[49m\n\u001b[1;32m   3103\u001b[0m \u001b[43m    \u001b[49m\u001b[43mis_split_into_words\u001b[49m\u001b[38;5;241;43m=\u001b[39;49m\u001b[43mis_split_into_words\u001b[49m\u001b[43m,\u001b[49m\n\u001b[1;32m   3104\u001b[0m \u001b[43m    \u001b[49m\u001b[43mpad_to_multiple_of\u001b[49m\u001b[38;5;241;43m=\u001b[39;49m\u001b[43mpad_to_multiple_of\u001b[49m\u001b[43m,\u001b[49m\n\u001b[1;32m   3105\u001b[0m \u001b[43m    \u001b[49m\u001b[43mpadding_side\u001b[49m\u001b[38;5;241;43m=\u001b[39;49m\u001b[43mpadding_side\u001b[49m\u001b[43m,\u001b[49m\n\u001b[1;32m   3106\u001b[0m \u001b[43m    \u001b[49m\u001b[43mreturn_tensors\u001b[49m\u001b[38;5;241;43m=\u001b[39;49m\u001b[43mreturn_tensors\u001b[49m\u001b[43m,\u001b[49m\n\u001b[1;32m   3107\u001b[0m \u001b[43m    \u001b[49m\u001b[43mreturn_token_type_ids\u001b[49m\u001b[38;5;241;43m=\u001b[39;49m\u001b[43mreturn_token_type_ids\u001b[49m\u001b[43m,\u001b[49m\n\u001b[1;32m   3108\u001b[0m \u001b[43m    \u001b[49m\u001b[43mreturn_attention_mask\u001b[49m\u001b[38;5;241;43m=\u001b[39;49m\u001b[43mreturn_attention_mask\u001b[49m\u001b[43m,\u001b[49m\n\u001b[1;32m   3109\u001b[0m \u001b[43m    \u001b[49m\u001b[43mreturn_overflowing_tokens\u001b[49m\u001b[38;5;241;43m=\u001b[39;49m\u001b[43mreturn_overflowing_tokens\u001b[49m\u001b[43m,\u001b[49m\n\u001b[1;32m   3110\u001b[0m \u001b[43m    \u001b[49m\u001b[43mreturn_special_tokens_mask\u001b[49m\u001b[38;5;241;43m=\u001b[39;49m\u001b[43mreturn_special_tokens_mask\u001b[49m\u001b[43m,\u001b[49m\n\u001b[1;32m   3111\u001b[0m \u001b[43m    \u001b[49m\u001b[43mreturn_offsets_mapping\u001b[49m\u001b[38;5;241;43m=\u001b[39;49m\u001b[43mreturn_offsets_mapping\u001b[49m\u001b[43m,\u001b[49m\n\u001b[1;32m   3112\u001b[0m \u001b[43m    \u001b[49m\u001b[43mreturn_length\u001b[49m\u001b[38;5;241;43m=\u001b[39;49m\u001b[43mreturn_length\u001b[49m\u001b[43m,\u001b[49m\n\u001b[1;32m   3113\u001b[0m \u001b[43m    \u001b[49m\u001b[43mverbose\u001b[49m\u001b[38;5;241;43m=\u001b[39;49m\u001b[43mverbose\u001b[49m\u001b[43m,\u001b[49m\n\u001b[1;32m   3114\u001b[0m \u001b[43m    \u001b[49m\u001b[43msplit_special_tokens\u001b[49m\u001b[38;5;241;43m=\u001b[39;49m\u001b[43mkwargs\u001b[49m\u001b[38;5;241;43m.\u001b[39;49m\u001b[43mpop\u001b[49m\u001b[43m(\u001b[49m\u001b[38;5;124;43m\"\u001b[39;49m\u001b[38;5;124;43msplit_special_tokens\u001b[39;49m\u001b[38;5;124;43m\"\u001b[39;49m\u001b[43m,\u001b[49m\u001b[43m \u001b[49m\u001b[38;5;28;43mself\u001b[39;49m\u001b[38;5;241;43m.\u001b[39;49m\u001b[43msplit_special_tokens\u001b[49m\u001b[43m)\u001b[49m\u001b[43m,\u001b[49m\n\u001b[1;32m   3115\u001b[0m \u001b[43m    \u001b[49m\u001b[38;5;241;43m*\u001b[39;49m\u001b[38;5;241;43m*\u001b[39;49m\u001b[43mkwargs\u001b[49m\u001b[43m,\u001b[49m\n\u001b[1;32m   3116\u001b[0m \u001b[43m\u001b[49m\u001b[43m)\u001b[49m\n",
      "File \u001b[0;32m/opt/conda/lib/python3.11/site-packages/transformers/tokenization_utils_fast.py:627\u001b[0m, in \u001b[0;36mPreTrainedTokenizerFast._encode_plus\u001b[0;34m(self, text, text_pair, add_special_tokens, padding_strategy, truncation_strategy, max_length, stride, is_split_into_words, pad_to_multiple_of, padding_side, return_tensors, return_token_type_ids, return_attention_mask, return_overflowing_tokens, return_special_tokens_mask, return_offsets_mapping, return_length, verbose, split_special_tokens, **kwargs)\u001b[0m\n\u001b[1;32m    603\u001b[0m \u001b[38;5;28;01mdef\u001b[39;00m\u001b[38;5;250m \u001b[39m\u001b[38;5;21m_encode_plus\u001b[39m(\n\u001b[1;32m    604\u001b[0m     \u001b[38;5;28mself\u001b[39m,\n\u001b[1;32m    605\u001b[0m     text: Union[TextInput, PreTokenizedInput],\n\u001b[0;32m   (...)\u001b[0m\n\u001b[1;32m    624\u001b[0m     \u001b[38;5;241m*\u001b[39m\u001b[38;5;241m*\u001b[39mkwargs,\n\u001b[1;32m    625\u001b[0m ) \u001b[38;5;241m-\u001b[39m\u001b[38;5;241m>\u001b[39m BatchEncoding:\n\u001b[1;32m    626\u001b[0m     batched_input \u001b[38;5;241m=\u001b[39m [(text, text_pair)] \u001b[38;5;28;01mif\u001b[39;00m text_pair \u001b[38;5;28;01melse\u001b[39;00m [text]\n\u001b[0;32m--> 627\u001b[0m     batched_output \u001b[38;5;241m=\u001b[39m \u001b[38;5;28;43mself\u001b[39;49m\u001b[38;5;241;43m.\u001b[39;49m\u001b[43m_batch_encode_plus\u001b[49m\u001b[43m(\u001b[49m\n\u001b[1;32m    628\u001b[0m \u001b[43m        \u001b[49m\u001b[43mbatched_input\u001b[49m\u001b[43m,\u001b[49m\n\u001b[1;32m    629\u001b[0m \u001b[43m        \u001b[49m\u001b[43mis_split_into_words\u001b[49m\u001b[38;5;241;43m=\u001b[39;49m\u001b[43mis_split_into_words\u001b[49m\u001b[43m,\u001b[49m\n\u001b[1;32m    630\u001b[0m \u001b[43m        \u001b[49m\u001b[43madd_special_tokens\u001b[49m\u001b[38;5;241;43m=\u001b[39;49m\u001b[43madd_special_tokens\u001b[49m\u001b[43m,\u001b[49m\n\u001b[1;32m    631\u001b[0m \u001b[43m        \u001b[49m\u001b[43mpadding_strategy\u001b[49m\u001b[38;5;241;43m=\u001b[39;49m\u001b[43mpadding_strategy\u001b[49m\u001b[43m,\u001b[49m\n\u001b[1;32m    632\u001b[0m \u001b[43m        \u001b[49m\u001b[43mtruncation_strategy\u001b[49m\u001b[38;5;241;43m=\u001b[39;49m\u001b[43mtruncation_strategy\u001b[49m\u001b[43m,\u001b[49m\n\u001b[1;32m    633\u001b[0m \u001b[43m        \u001b[49m\u001b[43mmax_length\u001b[49m\u001b[38;5;241;43m=\u001b[39;49m\u001b[43mmax_length\u001b[49m\u001b[43m,\u001b[49m\n\u001b[1;32m    634\u001b[0m \u001b[43m        \u001b[49m\u001b[43mstride\u001b[49m\u001b[38;5;241;43m=\u001b[39;49m\u001b[43mstride\u001b[49m\u001b[43m,\u001b[49m\n\u001b[1;32m    635\u001b[0m \u001b[43m        \u001b[49m\u001b[43mpad_to_multiple_of\u001b[49m\u001b[38;5;241;43m=\u001b[39;49m\u001b[43mpad_to_multiple_of\u001b[49m\u001b[43m,\u001b[49m\n\u001b[1;32m    636\u001b[0m \u001b[43m        \u001b[49m\u001b[43mpadding_side\u001b[49m\u001b[38;5;241;43m=\u001b[39;49m\u001b[43mpadding_side\u001b[49m\u001b[43m,\u001b[49m\n\u001b[1;32m    637\u001b[0m \u001b[43m        \u001b[49m\u001b[43mreturn_tensors\u001b[49m\u001b[38;5;241;43m=\u001b[39;49m\u001b[43mreturn_tensors\u001b[49m\u001b[43m,\u001b[49m\n\u001b[1;32m    638\u001b[0m \u001b[43m        \u001b[49m\u001b[43mreturn_token_type_ids\u001b[49m\u001b[38;5;241;43m=\u001b[39;49m\u001b[43mreturn_token_type_ids\u001b[49m\u001b[43m,\u001b[49m\n\u001b[1;32m    639\u001b[0m \u001b[43m        \u001b[49m\u001b[43mreturn_attention_mask\u001b[49m\u001b[38;5;241;43m=\u001b[39;49m\u001b[43mreturn_attention_mask\u001b[49m\u001b[43m,\u001b[49m\n\u001b[1;32m    640\u001b[0m \u001b[43m        \u001b[49m\u001b[43mreturn_overflowing_tokens\u001b[49m\u001b[38;5;241;43m=\u001b[39;49m\u001b[43mreturn_overflowing_tokens\u001b[49m\u001b[43m,\u001b[49m\n\u001b[1;32m    641\u001b[0m \u001b[43m        \u001b[49m\u001b[43mreturn_special_tokens_mask\u001b[49m\u001b[38;5;241;43m=\u001b[39;49m\u001b[43mreturn_special_tokens_mask\u001b[49m\u001b[43m,\u001b[49m\n\u001b[1;32m    642\u001b[0m \u001b[43m        \u001b[49m\u001b[43mreturn_offsets_mapping\u001b[49m\u001b[38;5;241;43m=\u001b[39;49m\u001b[43mreturn_offsets_mapping\u001b[49m\u001b[43m,\u001b[49m\n\u001b[1;32m    643\u001b[0m \u001b[43m        \u001b[49m\u001b[43mreturn_length\u001b[49m\u001b[38;5;241;43m=\u001b[39;49m\u001b[43mreturn_length\u001b[49m\u001b[43m,\u001b[49m\n\u001b[1;32m    644\u001b[0m \u001b[43m        \u001b[49m\u001b[43mverbose\u001b[49m\u001b[38;5;241;43m=\u001b[39;49m\u001b[43mverbose\u001b[49m\u001b[43m,\u001b[49m\n\u001b[1;32m    645\u001b[0m \u001b[43m        \u001b[49m\u001b[43msplit_special_tokens\u001b[49m\u001b[38;5;241;43m=\u001b[39;49m\u001b[43msplit_special_tokens\u001b[49m\u001b[43m,\u001b[49m\n\u001b[1;32m    646\u001b[0m \u001b[43m        \u001b[49m\u001b[38;5;241;43m*\u001b[39;49m\u001b[38;5;241;43m*\u001b[39;49m\u001b[43mkwargs\u001b[49m\u001b[43m,\u001b[49m\n\u001b[1;32m    647\u001b[0m \u001b[43m    \u001b[49m\u001b[43m)\u001b[49m\n\u001b[1;32m    649\u001b[0m     \u001b[38;5;66;03m# Return tensor is None, then we can remove the leading batch axis\u001b[39;00m\n\u001b[1;32m    650\u001b[0m     \u001b[38;5;66;03m# Overflowing tokens are returned as a batch of output so we keep them in this case\u001b[39;00m\n\u001b[1;32m    651\u001b[0m     \u001b[38;5;28;01mif\u001b[39;00m return_tensors \u001b[38;5;129;01mis\u001b[39;00m \u001b[38;5;28;01mNone\u001b[39;00m \u001b[38;5;129;01mand\u001b[39;00m \u001b[38;5;129;01mnot\u001b[39;00m return_overflowing_tokens:\n",
      "File \u001b[0;32m/opt/conda/lib/python3.11/site-packages/transformers/tokenization_utils_fast.py:553\u001b[0m, in \u001b[0;36mPreTrainedTokenizerFast._batch_encode_plus\u001b[0;34m(self, batch_text_or_text_pairs, add_special_tokens, padding_strategy, truncation_strategy, max_length, stride, is_split_into_words, pad_to_multiple_of, padding_side, return_tensors, return_token_type_ids, return_attention_mask, return_overflowing_tokens, return_special_tokens_mask, return_offsets_mapping, return_length, verbose, split_special_tokens)\u001b[0m\n\u001b[1;32m    550\u001b[0m \u001b[38;5;28;01mif\u001b[39;00m \u001b[38;5;28mself\u001b[39m\u001b[38;5;241m.\u001b[39m_tokenizer\u001b[38;5;241m.\u001b[39mencode_special_tokens \u001b[38;5;241m!=\u001b[39m split_special_tokens:\n\u001b[1;32m    551\u001b[0m     \u001b[38;5;28mself\u001b[39m\u001b[38;5;241m.\u001b[39m_tokenizer\u001b[38;5;241m.\u001b[39mencode_special_tokens \u001b[38;5;241m=\u001b[39m split_special_tokens\n\u001b[0;32m--> 553\u001b[0m encodings \u001b[38;5;241m=\u001b[39m \u001b[38;5;28;43mself\u001b[39;49m\u001b[38;5;241;43m.\u001b[39;49m\u001b[43m_tokenizer\u001b[49m\u001b[38;5;241;43m.\u001b[39;49m\u001b[43mencode_batch\u001b[49m\u001b[43m(\u001b[49m\n\u001b[1;32m    554\u001b[0m \u001b[43m    \u001b[49m\u001b[43mbatch_text_or_text_pairs\u001b[49m\u001b[43m,\u001b[49m\n\u001b[1;32m    555\u001b[0m \u001b[43m    \u001b[49m\u001b[43madd_special_tokens\u001b[49m\u001b[38;5;241;43m=\u001b[39;49m\u001b[43madd_special_tokens\u001b[49m\u001b[43m,\u001b[49m\n\u001b[1;32m    556\u001b[0m \u001b[43m    \u001b[49m\u001b[43mis_pretokenized\u001b[49m\u001b[38;5;241;43m=\u001b[39;49m\u001b[43mis_split_into_words\u001b[49m\u001b[43m,\u001b[49m\n\u001b[1;32m    557\u001b[0m \u001b[43m\u001b[49m\u001b[43m)\u001b[49m\n\u001b[1;32m    559\u001b[0m \u001b[38;5;66;03m# Convert encoding to dict\u001b[39;00m\n\u001b[1;32m    560\u001b[0m \u001b[38;5;66;03m# `Tokens` has type: tuple[\u001b[39;00m\n\u001b[1;32m    561\u001b[0m \u001b[38;5;66;03m#                       list[dict[str, list[list[int]]]] or list[dict[str, 2D-Tensor]],\u001b[39;00m\n\u001b[1;32m    562\u001b[0m \u001b[38;5;66;03m#                       list[EncodingFast]\u001b[39;00m\n\u001b[1;32m    563\u001b[0m \u001b[38;5;66;03m#                    ]\u001b[39;00m\n\u001b[1;32m    564\u001b[0m \u001b[38;5;66;03m# with nested dimensions corresponding to batch, overflows, sequence length\u001b[39;00m\n\u001b[1;32m    565\u001b[0m tokens_and_encodings \u001b[38;5;241m=\u001b[39m [\n\u001b[1;32m    566\u001b[0m     \u001b[38;5;28mself\u001b[39m\u001b[38;5;241m.\u001b[39m_convert_encoding(\n\u001b[1;32m    567\u001b[0m         encoding\u001b[38;5;241m=\u001b[39mencoding,\n\u001b[0;32m   (...)\u001b[0m\n\u001b[1;32m    576\u001b[0m     \u001b[38;5;28;01mfor\u001b[39;00m encoding \u001b[38;5;129;01min\u001b[39;00m encodings\n\u001b[1;32m    577\u001b[0m ]\n",
      "\u001b[0;31mKeyboardInterrupt\u001b[0m: "
     ]
    }
   ],
   "source": [
    "# Training loop\n",
    "for epoch in range(num_epochs):\n",
    "    model.train()\n",
    "    model.to(DEVICE)\n",
    "    epoch_loss = 0.0\n",
    "    loop_error = 0.0\n",
    "\n",
    "    # Reset generator at the start of each epoch\n",
    "    progress_bar = tqdm(make_generator(csv_path, batch_size), total=num_steps)\n",
    "    progress_bar.set_description(f\"Epoch {epoch + 1}\")\n",
    "\n",
    "    for step, raw_batch in enumerate(progress_bar, start=1):\n",
    "        try:\n",
    "            training_batch = processor.make_batch(raw_batch, dtype)        # Converts batch to `TrainingBatch` format\n",
    "            input_ids = training_batch.input_ids.to(DEVICE)            # Encoder input (source sentence)\n",
    "            target_ids = training_batch.output_ids.to(DEVICE)          # Decoder target sequence\n",
    "            encoder_mask = training_batch.encoder_mask.to(DEVICE)   # Mask for encoder\n",
    "\n",
    "            # adjust decoder input\n",
    "            decoder_input_ids = target_ids[:, :-1]\n",
    "            target_ids_flat = target_ids[:, 1:].contiguous().view(-1)\n",
    "\n",
    "            # adjust decoder mask too\n",
    "            decoder_mask = training_batch.decoder_mask[:, :, :, :-1].to(DEVICE)\n",
    "            \n",
    "            # We need to create a causal mask too\n",
    "            seq_len = decoder_input_ids.shape[1]\n",
    "            causal_mask = torch.tril(torch.ones((seq_len, seq_len))).to(DEVICE).to(dtype)\n",
    "            \n",
    "            # final decoder mask as prod of padding * causal\n",
    "            final_decoder_mask = decoder_mask * causal_mask.unsqueeze(0)\n",
    "\n",
    "        except Exception as e:\n",
    "            print(f\"Error in batch {step}: {e}\")\n",
    "            loop_error += 1\n",
    "            continue\n",
    "        \n",
    "        # change learning rate\n",
    "        # new_lr = 512 ** (-1.5) * (epoch * 1000 + step + 1) ** (-0.5)\n",
    "        # for param_group in optimizer.param_groups:\n",
    "        #     param_group['lr'] = new_lr\n",
    "\n",
    "        # Forward pass\n",
    "        optimizer.zero_grad()\n",
    "        output_probs = model(\n",
    "            input_ids,\n",
    "            decoder_input_ids,\n",
    "            encoder_mask=encoder_mask,\n",
    "            decoder_mask=final_decoder_mask)\n",
    "\n",
    "        # flatten target and outputprobs to compute cce loss\n",
    "        output_probs_flat = output_probs.view(-1, output_probs.size(-1))\n",
    "\n",
    "        # Calculate the loss\n",
    "        loss = loss_fn(output_probs_flat, target_ids_flat)\n",
    "        loss.backward()\n",
    "        optimizer.step()\n",
    "\n",
    "        # Track loss\n",
    "        epoch_loss += loss.item()\n",
    "\n",
    "        # Optionally, print progress\n",
    "        progress_bar.set_postfix_str(f\"lr : {learning_rate:.4f} ; \"\n",
    "                                     f\"epoch loss : {epoch_loss / step:.4f} ; \"\n",
    "                                     f\"loop error : {loop_error}\")\n",
    "        \n",
    "        \n",
    "        if step == break_at: # train only on a subset for now\n",
    "            break\n",
    "\n",
    "    # with torch.no_grad():\n",
    "    #     sample_output = output_probs.argmax(dim=-1)\n",
    "    #     print(\"Predicted tokens:\", sample_output[0, :10].squeeze())  \n",
    "    #     print(\"Target tokens:   \", target_ids[0, 1:11].squeeze())  \n",
    "\n",
    "    # Print average loss per epoch\n",
    "    print(f\"Epoch [{epoch+1}/{num_epochs}] completed, Average Loss: {epoch_loss / num_steps:.4f}\")"
   ]
  },
  {
   "cell_type": "code",
   "execution_count": 27,
   "metadata": {},
   "outputs": [],
   "source": [
    "@torch.no_grad()\n",
    "def infer(model: nn.Module, \n",
    "          tokenerizer: Processor, \n",
    "          french_sentence: str, \n",
    "          max_length: int | None = None, \n",
    "          skip_special_tokens: bool = True) -> str:\n",
    "    # first model as eval (we don't train here)\n",
    "    model.eval()\n",
    "    sequence_length = max_length if max_length else tokenerizer.sequence_length\n",
    "\n",
    "    # Tokenize the input sequence in french\n",
    "    tokens = tokenerizer.tokenize(french_sentence)\n",
    "\n",
    "    # create the encoder input and mask\n",
    "    encoder_ids = tokens[\"input_ids\"].int().to(DEVICE)\n",
    "    encoder_mask = tokens[\"attention_mask\"].unsqueeze(0).unsqueeze(0).to(DEVICE)\n",
    "\n",
    "    # initialize decoder mask and input\n",
    "    decoder_mask = torch.zeros((1, 1, 1, tokenerizer.sequence_length)).to(DEVICE)\n",
    "    decoder_mask[0, 0, 0, 0] = 1 # unmask the start of sequence token\n",
    "    target_ids = torch.zeros((1, tokenerizer.sequence_length)).int().to(DEVICE)\n",
    "    target_ids[0, 0] = tokenerizer.tokenizer.cls_token_id # start of sequence\n",
    "\n",
    "    # loop to generate output ids\n",
    "    for idx in range(1, sequence_length):\n",
    "        output_probs: Tensor = model(\n",
    "            encoder_ids,\n",
    "            target_ids,\n",
    "            encoder_mask=encoder_mask,\n",
    "            decoder_mask=None)\n",
    "\n",
    "        # select next token ID with the highest probability\n",
    "        next_token_id = output_probs.argmax(dim=-1)[0, idx]\n",
    "        target_ids[0, idx] = next_token_id\n",
    "        decoder_mask[0, 0, 0, idx] = 1 # unmask the generated token\n",
    "\n",
    "        # early stop when encounter sep_token_id\n",
    "        if next_token_id.item() == tokenerizer.tokenizer.sep_token_id:\n",
    "            break\n",
    "\n",
    "    return tokenerizer.decode(target_ids[0], skip_special_tokens=skip_special_tokens)"
   ]
  },
  {
   "cell_type": "code",
   "execution_count": 37,
   "metadata": {},
   "outputs": [
    {
     "name": "stdout",
     "output_type": "stream",
     "text": [
      "ListPairedSentences(fr=['Il a transformé notre vie | Il a transformé la société | Son fonctionnement | La technologie, moteur du changement Accueil | Concepts | Enseignants | Recherche | Aperçu | Collaborateurs | Web HHCC | Ressources | Commentaires Musée virtuel du Canada'], en=['Changing Lives | Changing Society | How It Works | Technology Drives Change Home | Concepts | Teachers | Search | Overview | Credits | HHCC Web | Reference | Feedback Virtual Museum of Canada Home Page'])\n"
     ]
    },
    {
     "data": {
      "text/plain": [
       "'.......................................................................................................................................................................................................'"
      ]
     },
     "execution_count": 37,
     "metadata": {},
     "output_type": "execute_result"
    }
   ],
   "source": [
    "sentence = make_generator(csv_path, 1)\n",
    "print(next(sentence))\n",
    "infer(model, processor, \"Wow what the actual fuck ?\")"
   ]
  }
 ],
 "metadata": {
  "kernelspec": {
   "display_name": "base",
   "language": "python",
   "name": "python3"
  },
  "language_info": {
   "codemirror_mode": {
    "name": "ipython",
    "version": 3
   },
   "file_extension": ".py",
   "mimetype": "text/x-python",
   "name": "python",
   "nbconvert_exporter": "python",
   "pygments_lexer": "ipython3",
   "version": "3.11.11"
  }
 },
 "nbformat": 4,
 "nbformat_minor": 2
}
